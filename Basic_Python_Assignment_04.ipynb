{
 "cells": [
  {
   "cell_type": "markdown",
   "id": "e0fff959",
   "metadata": {},
   "source": [
    "# Python Basic Assignment-4"
   ]
  },
  {
   "cell_type": "markdown",
   "id": "9a5c5d33",
   "metadata": {},
   "source": [
    "# 1. What exactly is []?"
   ]
  },
  {
   "cell_type": "markdown",
   "id": "3c0ff59f",
   "metadata": {},
   "source": [
    "[] is an empty list. It contains no item inside. it can used for creating empty list as \n",
    "\n",
    "x=[] is an empty list"
   ]
  },
  {
   "cell_type": "markdown",
   "id": "f96ba991",
   "metadata": {},
   "source": [
    "# 2. In a list of values stored in a variable called spam, how would you assign the value 'hello' as the third value? (Assume [2, 4, 6, 8, 10] are in spam.)"
   ]
  },
  {
   "cell_type": "code",
   "execution_count": 7,
   "id": "2be68398",
   "metadata": {},
   "outputs": [
    {
     "data": {
      "text/plain": [
       "[2, 4, 'hello', 8, 10]"
      ]
     },
     "execution_count": 7,
     "metadata": {},
     "output_type": "execute_result"
    }
   ],
   "source": [
    "spam = [2, 4, 6, 8, 10]\n",
    "\n",
    "#as the list index starts from 0 ,'hello' can be assigned at 2nd index as 3rd value by using index 2 of the list.\n",
    "spam[2]='hello'\n",
    "spam"
   ]
  },
  {
   "cell_type": "markdown",
   "id": "d072d8ce",
   "metadata": {},
   "source": [
    "# Let's pretend the spam includes the list ['a', 'b', 'c', 'd'] for the next three queries."
   ]
  },
  {
   "cell_type": "markdown",
   "id": "9d4a265c",
   "metadata": {},
   "source": [
    "# 3. What is the value of spam[int(int('3' * 2) / 11)]?"
   ]
  },
  {
   "cell_type": "code",
   "execution_count": 10,
   "id": "c3faf560",
   "metadata": {},
   "outputs": [
    {
     "name": "stdout",
     "output_type": "stream",
     "text": [
      "The value of spam[int(int('3' * 2) / 11)] is d\n"
     ]
    }
   ],
   "source": [
    "spam=['a', 'b', 'c', 'd']\n",
    "res=spam[int(int('3' * 2) / 11)]\n",
    "\n",
    "print(f\"The value of spam[int(int('3' * 2) / 11)] is {res}\")"
   ]
  },
  {
   "cell_type": "markdown",
   "id": "5c93b5ee",
   "metadata": {},
   "source": [
    "# 4. What is the value of spam[-1]?"
   ]
  },
  {
   "cell_type": "code",
   "execution_count": 12,
   "id": "91536df6",
   "metadata": {},
   "outputs": [
    {
     "name": "stdout",
     "output_type": "stream",
     "text": [
      "The value of spam[-1] is  d\n"
     ]
    }
   ],
   "source": [
    "#spam[-1] is the value at the last index of the list. \n",
    "print(\"The value of spam[-1] is \", spam[-1])"
   ]
  },
  {
   "cell_type": "markdown",
   "id": "8cd8f37b",
   "metadata": {},
   "source": [
    "# 5. What is the value of spam[:2]?"
   ]
  },
  {
   "cell_type": "code",
   "execution_count": 14,
   "id": "2019775c",
   "metadata": {},
   "outputs": [
    {
     "name": "stdout",
     "output_type": "stream",
     "text": [
      "The value of spam[:2] is  ['a', 'b']\n"
     ]
    }
   ],
   "source": [
    "#spam[:2] gives the list items from from the firt index to the 1st index value. index 2 is not included.\n",
    "print(\"The value of spam[:2] is \", spam[:2])"
   ]
  },
  {
   "cell_type": "markdown",
   "id": "a817b7ac",
   "metadata": {},
   "source": [
    "# Let's pretend bacon has the list [3.14, 'cat,' 11, 'cat,' True] for the next three questions."
   ]
  },
  {
   "cell_type": "markdown",
   "id": "d0ef4755",
   "metadata": {},
   "source": [
    "# 6.What is the value of bacon.index('cat')?"
   ]
  },
  {
   "cell_type": "code",
   "execution_count": 35,
   "id": "12d33770",
   "metadata": {},
   "outputs": [
    {
     "data": {
      "text/plain": [
       "1"
      ]
     },
     "execution_count": 35,
     "metadata": {},
     "output_type": "execute_result"
    }
   ],
   "source": [
    "bacon=[3.14, 'cat', 11, 'cat', True]\n",
    "bacon.index('cat')\n",
    "\n",
    "#it gives the first index value of the list item if its present. so it will give 1 as index value."
   ]
  },
  {
   "cell_type": "markdown",
   "id": "fbd06c59",
   "metadata": {},
   "source": [
    "# 7. How does bacon.append(99) change the look of the list value in bacon"
   ]
  },
  {
   "cell_type": "code",
   "execution_count": 36,
   "id": "fb02bb77",
   "metadata": {},
   "outputs": [
    {
     "data": {
      "text/plain": [
       "[3.14, 'cat', 11, 'cat', True, 99]"
      ]
     },
     "execution_count": 36,
     "metadata": {},
     "output_type": "execute_result"
    }
   ],
   "source": [
    "bacon.append(99)\n",
    "bacon\n",
    "# It will add the value 99 to the end of the bacon list. list size will be increased by 1."
   ]
  },
  {
   "cell_type": "markdown",
   "id": "02c3b630",
   "metadata": {},
   "source": [
    "# 8. How does bacon.remove('cat') change the look of the list in bacon"
   ]
  },
  {
   "cell_type": "code",
   "execution_count": 37,
   "id": "2304099e",
   "metadata": {},
   "outputs": [
    {
     "data": {
      "text/plain": [
       "[3.14, 11, 'cat', True, 99]"
      ]
     },
     "execution_count": 37,
     "metadata": {},
     "output_type": "execute_result"
    }
   ],
   "source": [
    "bacon.remove('cat')\n",
    "bacon\n",
    "\n",
    "#it will remove the first occurance value 'cat' from the list."
   ]
  },
  {
   "cell_type": "markdown",
   "id": "6dad2bee",
   "metadata": {},
   "source": [
    "# 9. What are the list concatenation and list replication operators?"
   ]
  },
  {
   "cell_type": "markdown",
   "id": "49b9e820",
   "metadata": {},
   "source": [
    "list concatenation operator : +\n",
    "\n",
    "list replication operator : *"
   ]
  },
  {
   "cell_type": "markdown",
   "id": "b4806b9c",
   "metadata": {},
   "source": [
    "# 10. What is difference between the list methods append() and insert()?"
   ]
  },
  {
   "cell_type": "markdown",
   "id": "10d1d965",
   "metadata": {},
   "source": [
    "append() : By using this method, an item can be added to the list at the end of it.\n",
    "\n",
    "insert() : By using this method, an item can be inserted at an index value of the list.rest of the item will be shifted by 1 index value."
   ]
  },
  {
   "cell_type": "markdown",
   "id": "4c6651fb",
   "metadata": {},
   "source": [
    "# 11. What are the two methods for removing items from a list?"
   ]
  },
  {
   "cell_type": "markdown",
   "id": "9314990e",
   "metadata": {},
   "source": [
    "Methods to remove items from list as below \n",
    "\n",
    "1 ) remove()\n",
    "\n",
    "2 ) pop() \n",
    "\n",
    "using these 2 methods items can be removed from list."
   ]
  },
  {
   "cell_type": "markdown",
   "id": "5ba2f15f",
   "metadata": {},
   "source": [
    "# 12. Describe how list values and string values are identical."
   ]
  },
  {
   "cell_type": "markdown",
   "id": "7a3182ae",
   "metadata": {},
   "source": [
    "list values are mutable. list values can be changed but string is immutable. string values can't be changed."
   ]
  },
  {
   "cell_type": "markdown",
   "id": "06639ae0",
   "metadata": {},
   "source": [
    "# 13. What's the difference between tuples and lists?"
   ]
  },
  {
   "cell_type": "markdown",
   "id": "4719239a",
   "metadata": {},
   "source": [
    "tuples are immutable where as lists are mutable. we can add item or change its value inside a list , but we can't do such operation inside a tuple."
   ]
  },
  {
   "cell_type": "markdown",
   "id": "f9e96cda",
   "metadata": {},
   "source": [
    "# 14. How do you type a tuple value that only contains the integer 42?"
   ]
  },
  {
   "cell_type": "code",
   "execution_count": 56,
   "id": "635fd222",
   "metadata": {},
   "outputs": [
    {
     "name": "stdout",
     "output_type": "stream",
     "text": [
      "<class 'tuple'>\n"
     ]
    }
   ],
   "source": [
    "# a tuple value that only contains the integer 42 can be created as below\n",
    "\n",
    "x=(42,)\n",
    "print(type(x))"
   ]
  },
  {
   "cell_type": "markdown",
   "id": "5f098a11",
   "metadata": {},
   "source": [
    "# 15. How do you get a list value's tuple form? How do you get a tuple value's list form?"
   ]
  },
  {
   "cell_type": "code",
   "execution_count": 61,
   "id": "e41bdc21",
   "metadata": {},
   "outputs": [
    {
     "name": "stdout",
     "output_type": "stream",
     "text": [
      "[3, 4, 5]\n",
      "(2, 4, 5)\n"
     ]
    }
   ],
   "source": [
    "# by using list() , list values can be get in list form.\n",
    "# by using tuple(), tuple values can be get in tuple form.\n",
    "\n",
    "x=(3,4,5)\n",
    "y=list(x)\n",
    "print(y)\n",
    "\n",
    "a=[2,4,5]\n",
    "b=tuple(a)\n",
    "print(b)"
   ]
  },
  {
   "cell_type": "markdown",
   "id": "ebc30c65",
   "metadata": {},
   "source": [
    "# 16. Variables that \"contain\" list values are not necessarily lists themselves. Instead, what do they contain?"
   ]
  },
  {
   "cell_type": "markdown",
   "id": "1cc8e25b",
   "metadata": {},
   "source": [
    "they contains reference to the list values."
   ]
  },
  {
   "cell_type": "markdown",
   "id": "6eb005ad",
   "metadata": {},
   "source": [
    "# 17. How do you distinguish between copy.copy() and copy.deepcopy()?"
   ]
  },
  {
   "cell_type": "markdown",
   "id": "bf6ed766",
   "metadata": {},
   "source": [
    "The copy.copy() function does a shallow copy of a list, while the copy.deepcopy() function does the deep copy of a list."
   ]
  },
  {
   "cell_type": "code",
   "execution_count": null,
   "id": "9ac7720c",
   "metadata": {},
   "outputs": [],
   "source": []
  }
 ],
 "metadata": {
  "kernelspec": {
   "display_name": "Python 3 (ipykernel)",
   "language": "python",
   "name": "python3"
  },
  "language_info": {
   "codemirror_mode": {
    "name": "ipython",
    "version": 3
   },
   "file_extension": ".py",
   "mimetype": "text/x-python",
   "name": "python",
   "nbconvert_exporter": "python",
   "pygments_lexer": "ipython3",
   "version": "3.9.7"
  }
 },
 "nbformat": 4,
 "nbformat_minor": 5
}
