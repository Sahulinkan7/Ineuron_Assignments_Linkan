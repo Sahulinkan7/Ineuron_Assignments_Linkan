{
 "cells": [
  {
   "cell_type": "markdown",
   "id": "1d39fbb3",
   "metadata": {},
   "source": [
    "# 1.Write a Python program to convert Celsius to Fahrenheit?"
   ]
  },
  {
   "cell_type": "code",
   "execution_count": 1,
   "id": "73c29776",
   "metadata": {},
   "outputs": [
    {
     "name": "stdout",
     "output_type": "stream",
     "text": [
      "Enter temperature in celcius : 32\n",
      "Temperature in fahreinheit is 89.6 \n"
     ]
    }
   ],
   "source": [
    "celcius=float(input('Enter temperature in celcius : '))\n",
    "fahreinheit=(celcius*1.8)+32\n",
    "print(f\"Temperature in fahreinheit is {fahreinheit} \")"
   ]
  },
  {
   "cell_type": "markdown",
   "id": "a1f4126b",
   "metadata": {},
   "source": [
    "# 2.Write a Python program to display calendar?"
   ]
  },
  {
   "cell_type": "code",
   "execution_count": 2,
   "id": "b7d13ca1",
   "metadata": {},
   "outputs": [
    {
     "name": "stdout",
     "output_type": "stream",
     "text": [
      "Enter Year : 2022\n",
      "Enter Month : 9\n",
      "\n",
      "    September 2022\n",
      "Mo Tu We Th Fr Sa Su\n",
      "          1  2  3  4\n",
      " 5  6  7  8  9 10 11\n",
      "12 13 14 15 16 17 18\n",
      "19 20 21 22 23 24 25\n",
      "26 27 28 29 30\n",
      "\n"
     ]
    }
   ],
   "source": [
    "import calendar\n",
    "\n",
    "year=int(input('Enter Year : '))\n",
    "month=int(input('Enter Month : '))\n",
    "\n",
    "print('\\n',calendar.month(year,month))"
   ]
  },
  {
   "cell_type": "markdown",
   "id": "f3c654ee",
   "metadata": {},
   "source": [
    "# 3.Write a Python program to solve quadratic equation?"
   ]
  },
  {
   "cell_type": "code",
   "execution_count": 3,
   "id": "14e5e51e",
   "metadata": {},
   "outputs": [
    {
     "name": "stdout",
     "output_type": "stream",
     "text": [
      "Enter a : 1\n",
      "Enter b : 5\n",
      "Enter c : 6\n",
      "The two solutions are : -2.0,-3.0\n"
     ]
    }
   ],
   "source": [
    "import math\n",
    "\n",
    "a=int(input('Enter a : '))\n",
    "b=int(input('Enter b : '))\n",
    "c=int(input('Enter c : '))\n",
    "\n",
    "d=(b**2)-(4*a*c)\n",
    "x=(-b+math.sqrt(d))/(2*a)\n",
    "y=(-b-math.sqrt(d))/(2*a)\n",
    "\n",
    "print(f\"The two solutions are : {x},{y}\")"
   ]
  },
  {
   "cell_type": "markdown",
   "id": "4c2d8b17",
   "metadata": {},
   "source": [
    "# 4.Write a Python program to swap two variables without temp variable?"
   ]
  },
  {
   "cell_type": "code",
   "execution_count": 4,
   "id": "4ee05a2e",
   "metadata": {},
   "outputs": [
    {
     "name": "stdout",
     "output_type": "stream",
     "text": [
      "Enter a : 23\n",
      "Enter b : 56\n",
      "\n",
      "After swap, values of a and b are as follows \n",
      "\n",
      "a : 56 \n",
      "b : 23\n"
     ]
    }
   ],
   "source": [
    "a=int(input('Enter a : '))\n",
    "b=int(input('Enter b : '))\n",
    "\n",
    "a,b=b,a\n",
    "\n",
    "print(f'\\nAfter swap, values of a and b are as follows \\n\\na : {a} \\nb : {b}')"
   ]
  },
  {
   "cell_type": "code",
   "execution_count": null,
   "id": "c80b1244",
   "metadata": {},
   "outputs": [],
   "source": []
  }
 ],
 "metadata": {
  "kernelspec": {
   "display_name": "Python 3 (ipykernel)",
   "language": "python",
   "name": "python3"
  },
  "language_info": {
   "codemirror_mode": {
    "name": "ipython",
    "version": 3
   },
   "file_extension": ".py",
   "mimetype": "text/x-python",
   "name": "python",
   "nbconvert_exporter": "python",
   "pygments_lexer": "ipython3",
   "version": "3.9.7"
  }
 },
 "nbformat": 4,
 "nbformat_minor": 5
}
