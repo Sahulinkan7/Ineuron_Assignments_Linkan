{
 "cells": [
  {
   "cell_type": "markdown",
   "id": "5587b672",
   "metadata": {},
   "source": [
    "# Basic Python Programming Assignment 19"
   ]
  },
  {
   "cell_type": "markdown",
   "id": "c21f8a8f",
   "metadata": {},
   "source": [
    "# Question1\n",
    "Create a function that takes a string and returns a string in which each character is repeated once.\n",
    "Examples\n",
    "double_char(\"String\") ➞ \"SSttrriinngg\"\n",
    "\n",
    "double_char(\"Hello World!\") ➞ \"HHeelllloo  WWoorrlldd!!\"\n",
    "\n",
    "double_char(\"1234!_ \") ➞ \"11223344!!__  \"\n"
   ]
  },
  {
   "cell_type": "code",
   "execution_count": 1,
   "id": "59ce26ed",
   "metadata": {},
   "outputs": [
    {
     "name": "stdout",
     "output_type": "stream",
     "text": [
      "HHeelllloo  WWoorrlldd!!\n"
     ]
    }
   ],
   "source": [
    "def double_char(s):\n",
    "    sl=list(s)\n",
    "    news=[]\n",
    "    for i in range(len(s)):\n",
    "        news.append(s[i]*2)\n",
    "    news=''.join(news)\n",
    "    return news\n",
    "\n",
    "op=double_char('Hello World!')\n",
    "print(op)"
   ]
  },
  {
   "cell_type": "markdown",
   "id": "473922db",
   "metadata": {},
   "source": [
    "# Question2\n",
    "Create a function that reverses a boolean value and returns the string \"boolean expected\" if another variable type is given.\n",
    "Examples\n",
    "reverse(True) ➞ False\n",
    "\n",
    "reverse(False) ➞ True\n",
    "\n",
    "reverse(0) ➞ \"boolean expected\"\n",
    "\n",
    "reverse(None) ➞ \"boolean expected\""
   ]
  },
  {
   "cell_type": "code",
   "execution_count": 2,
   "id": "3d95bba5",
   "metadata": {},
   "outputs": [
    {
     "name": "stdout",
     "output_type": "stream",
     "text": [
      "boolean expected\n"
     ]
    }
   ],
   "source": [
    "def reverse(x):\n",
    "    if type(x)!=bool:\n",
    "        return 'boolean expected'\n",
    "    else:\n",
    "        if x==True:\n",
    "            flag=False\n",
    "        else:\n",
    "            flag=True\n",
    "    return flag\n",
    "op=reverse(None)\n",
    "print(op)"
   ]
  },
  {
   "cell_type": "markdown",
   "id": "03464340",
   "metadata": {},
   "source": [
    "# Question3\n",
    "Create a function that returns the thickness (in meters) of a piece of paper after folding it n number of times. The paper starts off with a thickness of 0.5mm.\n",
    "Examples\n",
    "num_layers(1) ➞ \"0.001m\"\n",
    "# Paper folded once is 1mm (equal to 0.001m)\n",
    "\n",
    "num_layers(4) ➞ \"0.008m\"\n",
    "# Paper folded 4 times is 8mm (equal to 0.008m)\n",
    "\n",
    "num_layers(21) ➞ \"1048.576m\"\n",
    "# Paper folded 21 times is 1048576mm (equal to 1048.576m)"
   ]
  },
  {
   "cell_type": "code",
   "execution_count": 3,
   "id": "1b34ec0c",
   "metadata": {},
   "outputs": [
    {
     "name": "stdout",
     "output_type": "stream",
     "text": [
      "1048.576m\n"
     ]
    }
   ],
   "source": [
    "import math\n",
    "def num_layers(n):\n",
    "    if n==1:\n",
    "        res=0.001\n",
    "    else:\n",
    "        res=math.pow(2,n-1)/1000\n",
    "    return str(res)+'m'\n",
    "\n",
    "op=num_layers(21)\n",
    "print(op)"
   ]
  },
  {
   "cell_type": "markdown",
   "id": "f3fc1207",
   "metadata": {},
   "source": [
    "# Question4\n",
    "Create a function that takes a single string as argument and returns an ordered list containing the indices of all capital letters in the string.\n",
    "Examples\n",
    "index_of_caps(\"eDaBiT\") ➞ [1, 3, 5]\n",
    "\n",
    "index_of_caps(\"eQuINoX\") ➞ [1, 3, 4, 6]\n",
    "\n",
    "index_of_caps(\"determine\") ➞ []\n",
    "\n",
    "index_of_caps(\"STRIKE\") ➞ [0, 1, 2, 3, 4, 5]\n",
    "\n",
    "index_of_caps(\"sUn\") ➞ [1]\n"
   ]
  },
  {
   "cell_type": "code",
   "execution_count": 4,
   "id": "4880c9e5",
   "metadata": {},
   "outputs": [
    {
     "name": "stdout",
     "output_type": "stream",
     "text": [
      "[1, 3, 4, 6]\n"
     ]
    }
   ],
   "source": [
    "def index_of_caps(strng):\n",
    "    lst=[]\n",
    "    for i in range(len(strng)):\n",
    "        if strng[i].isupper():\n",
    "            lst.append(i)\n",
    "    return lst\n",
    "\n",
    "op=index_of_caps(\"eQuINoX\")\n",
    "print(op)"
   ]
  },
  {
   "cell_type": "markdown",
   "id": "8a2a5cc0",
   "metadata": {},
   "source": [
    "# Question5\n",
    "Using list comprehensions, create a function that finds all even numbers from 1 to the given number.\n",
    "Examples\n",
    "find_even_nums(8) ➞ [2, 4, 6, 8]\n",
    "\n",
    "find_even_nums(4) ➞ [2, 4]\n",
    "\n",
    "find_even_nums(2) ➞ [2]"
   ]
  },
  {
   "cell_type": "code",
   "execution_count": 5,
   "id": "9a5ecdbf",
   "metadata": {},
   "outputs": [
    {
     "name": "stdout",
     "output_type": "stream",
     "text": [
      "[2, 4, 6, 8]\n"
     ]
    }
   ],
   "source": [
    "def find_even_nums(n):\n",
    "    lst=[i for i in range(1,n+1) if i%2==0]\n",
    "    return lst\n",
    "op=find_even_nums(8)\n",
    "print(op)"
   ]
  },
  {
   "cell_type": "code",
   "execution_count": null,
   "id": "0f461bd4",
   "metadata": {},
   "outputs": [],
   "source": []
  }
 ],
 "metadata": {
  "kernelspec": {
   "display_name": "Python 3 (ipykernel)",
   "language": "python",
   "name": "python3"
  },
  "language_info": {
   "codemirror_mode": {
    "name": "ipython",
    "version": 3
   },
   "file_extension": ".py",
   "mimetype": "text/x-python",
   "name": "python",
   "nbconvert_exporter": "python",
   "pygments_lexer": "ipython3",
   "version": "3.9.7"
  }
 },
 "nbformat": 4,
 "nbformat_minor": 5
}
