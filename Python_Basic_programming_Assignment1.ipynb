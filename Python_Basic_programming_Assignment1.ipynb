{
 "cells": [
  {
   "cell_type": "markdown",
   "id": "af667492",
   "metadata": {},
   "source": [
    "# 1.Write a Python program to print \"Hello Python\"?"
   ]
  },
  {
   "cell_type": "code",
   "execution_count": 1,
   "id": "fc31a148",
   "metadata": {},
   "outputs": [
    {
     "name": "stdout",
     "output_type": "stream",
     "text": [
      "Hello Python\n"
     ]
    }
   ],
   "source": [
    "print(\"Hello Python\")"
   ]
  },
  {
   "cell_type": "markdown",
   "id": "673f5436",
   "metadata": {},
   "source": [
    "# 2.Write a Python program to do arithmetical operations addition and division.?\n"
   ]
  },
  {
   "cell_type": "code",
   "execution_count": 2,
   "id": "00611078",
   "metadata": {},
   "outputs": [
    {
     "name": "stdout",
     "output_type": "stream",
     "text": [
      "Addition of a and b is  15\n",
      "Division of a and b is  2.0\n"
     ]
    }
   ],
   "source": [
    "a=10\n",
    "b=5\n",
    "sum=a+b\n",
    "div=a/b\n",
    "print(\"Addition of a and b is \",sum)\n",
    "print(\"Division of a and b is \",div)"
   ]
  },
  {
   "cell_type": "markdown",
   "id": "d370f296",
   "metadata": {},
   "source": [
    "# 3.Write a Python program to find the area of a triangle?\n"
   ]
  },
  {
   "cell_type": "code",
   "execution_count": 3,
   "id": "3ab22800",
   "metadata": {},
   "outputs": [
    {
     "name": "stdout",
     "output_type": "stream",
     "text": [
      "Enter first side of the triangle 20\n",
      "Enter second side of the triangle 12\n",
      "Enter third side of the triangle 20\n",
      "Area of the Triangle is : 114.47\n"
     ]
    }
   ],
   "source": [
    "import math\n",
    "\n",
    "a=float(input(\"Enter first side of the triangle \"))\n",
    "b=float(input(\"Enter second side of the triangle \"))\n",
    "c=float(input(\"Enter third side of the triangle \"))\n",
    "\n",
    "s=(a+b+c)/2\n",
    "\n",
    "area=math.sqrt(s*(s-a)*(s-b)*(s-c))\n",
    "print(\"Area of the Triangle is : %0.2f\"%area)"
   ]
  },
  {
   "cell_type": "markdown",
   "id": "9f40dd12",
   "metadata": {},
   "source": [
    "# 4.Write a Python program to swap two variables?\n"
   ]
  },
  {
   "cell_type": "code",
   "execution_count": 4,
   "id": "4555532f",
   "metadata": {},
   "outputs": [
    {
     "name": "stdout",
     "output_type": "stream",
     "text": [
      "40 10\n"
     ]
    }
   ],
   "source": [
    "a=10\n",
    "b=40\n",
    "a,b=b,a\n",
    "print(a,b)"
   ]
  },
  {
   "cell_type": "markdown",
   "id": "800af24f",
   "metadata": {},
   "source": [
    "# 5.Write a Python program to generate a random number?"
   ]
  },
  {
   "cell_type": "code",
   "execution_count": 5,
   "id": "5ecb05cd",
   "metadata": {},
   "outputs": [
    {
     "name": "stdout",
     "output_type": "stream",
     "text": [
      "76\n"
     ]
    }
   ],
   "source": [
    "import random\n",
    "random_number=random.randint(10,100)\n",
    "print(random_number)"
   ]
  },
  {
   "cell_type": "code",
   "execution_count": null,
   "id": "69eb741d",
   "metadata": {},
   "outputs": [],
   "source": []
  }
 ],
 "metadata": {
  "kernelspec": {
   "display_name": "Python 3 (ipykernel)",
   "language": "python",
   "name": "python3"
  },
  "language_info": {
   "codemirror_mode": {
    "name": "ipython",
    "version": 3
   },
   "file_extension": ".py",
   "mimetype": "text/x-python",
   "name": "python",
   "nbconvert_exporter": "python",
   "pygments_lexer": "ipython3",
   "version": "3.9.7"
  }
 },
 "nbformat": 4,
 "nbformat_minor": 5
}
