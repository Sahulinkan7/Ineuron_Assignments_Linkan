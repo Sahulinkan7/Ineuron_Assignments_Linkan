{
 "cells": [
  {
   "cell_type": "markdown",
   "id": "f961c3d6",
   "metadata": {},
   "source": [
    "# Python Basic Programming Assignment - 5 "
   ]
  },
  {
   "cell_type": "markdown",
   "id": "2380b4fb",
   "metadata": {},
   "source": [
    "# 1.Write a Python Program to Find LCM?"
   ]
  },
  {
   "cell_type": "code",
   "execution_count": 1,
   "id": "b8fbf6b2",
   "metadata": {},
   "outputs": [
    {
     "name": "stdout",
     "output_type": "stream",
     "text": [
      "Enter first number : 4\n",
      "Enter second number : 6\n",
      "LCM of 4 and 6 is :  12\n"
     ]
    }
   ],
   "source": [
    "x=int(input('Enter first number : '))\n",
    "y=int(input('Enter second number : '))\n",
    "\n",
    "if x>y:\n",
    "    greater=x\n",
    "else:\n",
    "    greater=y\n",
    "while(True):\n",
    "    if (greater%x==0) and (greater%y==0):\n",
    "        lcm=greater\n",
    "        break\n",
    "    greater+=1\n",
    "\n",
    "print(f'LCM of {x} and {y} is : ',lcm)"
   ]
  },
  {
   "cell_type": "markdown",
   "id": "6d19412e",
   "metadata": {},
   "source": [
    "# 2.Write a Python Program to Find HCF?"
   ]
  },
  {
   "cell_type": "code",
   "execution_count": 2,
   "id": "a1ac9d6b",
   "metadata": {},
   "outputs": [
    {
     "name": "stdout",
     "output_type": "stream",
     "text": [
      "Enter first number : 32\n",
      "Enter second number : 36\n",
      "H.C.F of two numbers 32 and 36 is 4\n"
     ]
    }
   ],
   "source": [
    "x=int(input('Enter first number : '))\n",
    "y=int(input('Enter second number : '))\n",
    "hcf=1\n",
    "if x<y:\n",
    "    smaller=x\n",
    "else:\n",
    "    smaller=y\n",
    "\n",
    "for i in range(1,smaller+1):\n",
    "    if (x%i==0) and (y%i==0):\n",
    "        hcf=i\n",
    "\n",
    "print(f'H.C.F of two numbers {x} and {y} is {hcf}')\n",
    "        \n"
   ]
  },
  {
   "cell_type": "markdown",
   "id": "d99da739",
   "metadata": {},
   "source": [
    "# 3.Write a Python Program to Convert Decimal to Binary, Octal and Hexadecimal?"
   ]
  },
  {
   "cell_type": "code",
   "execution_count": 3,
   "id": "c4427ba6",
   "metadata": {},
   "outputs": [
    {
     "name": "stdout",
     "output_type": "stream",
     "text": [
      "Enter a decimal number : 16\n",
      "Binary number is :  0b10000\n",
      "Octal number is :  0o20\n",
      "Hexadecimal number is :  0x10\n"
     ]
    }
   ],
   "source": [
    "n=int(input('Enter a decimal number : '))\n",
    "print('Binary number is : ',bin(n))\n",
    "print('Octal number is : ',oct(n))\n",
    "print('Hexadecimal number is : ',hex(n))"
   ]
  },
  {
   "cell_type": "markdown",
   "id": "62058efb",
   "metadata": {},
   "source": [
    "# 4.Write a Python Program To Find ASCII value of a character?"
   ]
  },
  {
   "cell_type": "code",
   "execution_count": 4,
   "id": "583340a3",
   "metadata": {},
   "outputs": [
    {
     "name": "stdout",
     "output_type": "stream",
     "text": [
      "Enter a character : a\n",
      "ASCII character value of the character \"a\" is  97\n"
     ]
    }
   ],
   "source": [
    "char=input('Enter a character : ')\n",
    "print(f'ASCII character value of the character \"{char}\" is ',ord(char))"
   ]
  },
  {
   "cell_type": "markdown",
   "id": "8d90d1ee",
   "metadata": {},
   "source": [
    "# 5.Write a Python Program to Make a Simple Calculator with 4 basic mathematical operations?"
   ]
  },
  {
   "cell_type": "code",
   "execution_count": 5,
   "id": "ba034437",
   "metadata": {},
   "outputs": [
    {
     "name": "stdout",
     "output_type": "stream",
     "text": [
      "Enter value of a : 25\n",
      "Enter value of b : 5\n",
      "\n",
      "1.Addition\n",
      "2.Subtraction\n",
      "3.Multiplication\n",
      "4.Division\n",
      "\n",
      "Enter your choice of operation 3\n",
      "Multiplication of two numbers -> 25.0 * 5.0 = 125.0\n"
     ]
    }
   ],
   "source": [
    "a=float(input('Enter value of a : '))\n",
    "b=float(input('Enter value of b : '))\n",
    "print('\\n1.Addition\\n2.Subtraction\\n3.Multiplication\\n4.Division\\n')\n",
    "choice=int(input('Enter your choice of operation '))\n",
    "if choice==1:\n",
    "    print(f'Addition of two numbers -> {a} + {b} = {a+b}')\n",
    "elif choice==2:\n",
    "    print(f'Subtraction of two numbers -> {a} - {b} = {a-b}')\n",
    "elif choice==3:\n",
    "    print(f'Multiplication of two numbers -> {a} * {b} = {a*b}')\n",
    "elif choice==4:\n",
    "    print(f'Division of two numbers -> {a} / {b} == {a//b} ')\n",
    "else:\n",
    "    print('Wrong choice of operation. Please try once again ! ')"
   ]
  },
  {
   "cell_type": "code",
   "execution_count": null,
   "id": "d3ab1968",
   "metadata": {},
   "outputs": [],
   "source": []
  }
 ],
 "metadata": {
  "kernelspec": {
   "display_name": "Python 3 (ipykernel)",
   "language": "python",
   "name": "python3"
  },
  "language_info": {
   "codemirror_mode": {
    "name": "ipython",
    "version": 3
   },
   "file_extension": ".py",
   "mimetype": "text/x-python",
   "name": "python",
   "nbconvert_exporter": "python",
   "pygments_lexer": "ipython3",
   "version": "3.9.7"
  }
 },
 "nbformat": 4,
 "nbformat_minor": 5
}
