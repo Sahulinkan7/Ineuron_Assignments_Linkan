{
 "cells": [
  {
   "cell_type": "markdown",
   "id": "9097a6e3",
   "metadata": {},
   "source": [
    "# Python Basic Programming Assignment 23"
   ]
  },
  {
   "cell_type": "markdown",
   "id": "d5afd86b",
   "metadata": {},
   "source": [
    "# Question 1\n",
    "Create a function that takes a number as an argument and returns True or False depending on whether the number is symmetrical or not. A number is symmetrical when it is the same as its reverse.\n",
    "Examples\n",
    "is_symmetrical(7227) ➞ True\n",
    "\n",
    "is_symmetrical(12567) ➞ False\n",
    "\n",
    "is_symmetrical(44444444) ➞ True\n",
    "\n",
    "is_symmetrical(9939) ➞ False\n",
    "\n",
    "is_symmetrical(1112111) ➞ True\n"
   ]
  },
  {
   "cell_type": "code",
   "execution_count": 1,
   "id": "a415b7a6",
   "metadata": {},
   "outputs": [
    {
     "name": "stdout",
     "output_type": "stream",
     "text": [
      "True\n"
     ]
    }
   ],
   "source": [
    "def is_symmetrical(num):\n",
    "    l=list(str(num))\n",
    "    i=0\n",
    "    j=len(l)-1\n",
    "    flag=False\n",
    "    while i<j:\n",
    "        if l[i]==l[j]:\n",
    "            flag=True\n",
    "        else:\n",
    "            flag=False\n",
    "            break\n",
    "        i+=1\n",
    "        j-=1\n",
    "    return flag\n",
    "op=is_symmetrical(1112111)\n",
    "print(op)"
   ]
  },
  {
   "cell_type": "markdown",
   "id": "a81a0b1f",
   "metadata": {},
   "source": [
    "# Question 2\n",
    "Given a string of numbers separated by a comma and space, return the product of the numbers.\n",
    "Examples\n",
    "multiply_nums(\"2, 3\") ➞ 6\n",
    "\n",
    "multiply_nums(\"1, 2, 3, 4\") ➞ 24\n",
    "\n",
    "multiply_nums(\"54, 75, 453, 0\") ➞ 0\n",
    "\n",
    "multiply_nums(\"10, -2\") ➞ -20\n"
   ]
  },
  {
   "cell_type": "code",
   "execution_count": 2,
   "id": "95fd1539",
   "metadata": {},
   "outputs": [
    {
     "name": "stdout",
     "output_type": "stream",
     "text": [
      "24\n"
     ]
    }
   ],
   "source": [
    "def multiply_nums(s):\n",
    "    s1=s.split(', ')\n",
    "    ls=list(s1)\n",
    "    mul=1\n",
    "    for i in range(len(ls)):\n",
    "        mul*=int(ls[i])\n",
    "    return mul\n",
    "\n",
    "op=multiply_nums(\"1, 2, 3, 4\")\n",
    "print(op)\n",
    "    "
   ]
  },
  {
   "cell_type": "markdown",
   "id": "7c0454cb",
   "metadata": {},
   "source": [
    "# Question 3\n",
    "Create a function that squares every digit of a number.\n",
    "Examples\n",
    "square_digits(9119) ➞ 811181\n",
    "\n",
    "square_digits(2483) ➞ 416649\n",
    "\n",
    "square_digits(3212) ➞ 9414\n",
    "Notes\n",
    "The function receives an integer and must return an integer."
   ]
  },
  {
   "cell_type": "code",
   "execution_count": 3,
   "id": "9b088e7f",
   "metadata": {},
   "outputs": [
    {
     "name": "stdout",
     "output_type": "stream",
     "text": [
      "811181\n"
     ]
    }
   ],
   "source": [
    "def square_digits(num):\n",
    "    l=list(str(num))\n",
    "    newl=[]\n",
    "    for i in range(len(str(num))):\n",
    "        newl.append(str(int(l[i])*int(l[i])))\n",
    "    newl=''.join(newl)\n",
    "    return int(newl)\n",
    "\n",
    "op=square_digits(9119)\n",
    "print(op)\n",
    "        "
   ]
  },
  {
   "cell_type": "markdown",
   "id": "39de2b85",
   "metadata": {},
   "source": [
    "# Question 4\n",
    "Create a function that sorts a list and removes all duplicate items from it.\n",
    "Examples\n",
    "setify([1, 3, 3, 5, 5]) ➞ [1, 3, 5]\n",
    "\n",
    "setify([4, 4, 4, 4]) ➞ [4]\n",
    "\n",
    "setify([5, 7, 8, 9, 10, 15]) ➞ [5, 7, 8, 9, 10, 15]\n",
    "\n",
    "setify([3, 3, 3, 2, 1]) ➞ [1, 2, 3]"
   ]
  },
  {
   "cell_type": "code",
   "execution_count": 4,
   "id": "20590870",
   "metadata": {},
   "outputs": [
    {
     "name": "stdout",
     "output_type": "stream",
     "text": [
      "[1, 3, 5]\n"
     ]
    }
   ],
   "source": [
    "def setify(lst):\n",
    "    st=list(set(lst))\n",
    "    for i in range(len(st)):\n",
    "        for j in range(len(st)-i-1):\n",
    "            if st[j]>st[j+1]:\n",
    "                st[j],st[j+1]=st[j+1],st[j]\n",
    "    return st\n",
    "\n",
    "op=setify(([1, 3, 3, 5, 5]))\n",
    "print(op)"
   ]
  },
  {
   "cell_type": "markdown",
   "id": "946489d6",
   "metadata": {},
   "source": [
    "# Question 5\n",
    "Create a function that returns the mean of all digits.\n",
    "Examples\n",
    "mean(42) ➞ 3\n",
    "\n",
    "mean(12345) ➞ 3\n",
    "\n",
    "mean(666) ➞ 6\n",
    "Notes\n",
    "The mean of all digits is the sum of digits / how many digits there are (e.g. mean of digits in 512 is (5+1+2)/3(number of digits) = 8/3=2).\n",
    "The mean will always be an integer."
   ]
  },
  {
   "cell_type": "code",
   "execution_count": 5,
   "id": "ebc274e5",
   "metadata": {},
   "outputs": [
    {
     "name": "stdout",
     "output_type": "stream",
     "text": [
      "6\n"
     ]
    }
   ],
   "source": [
    "def mean(num):\n",
    "    lst=list(str(num))\n",
    "    sum=0\n",
    "    avg=0\n",
    "    for i in lst:\n",
    "        sum+=int(i)\n",
    "    avg=sum//len(lst)\n",
    "    return avg\n",
    "\n",
    "op=mean(666)\n",
    "print(op)"
   ]
  },
  {
   "cell_type": "code",
   "execution_count": null,
   "id": "a17429d8",
   "metadata": {},
   "outputs": [],
   "source": []
  }
 ],
 "metadata": {
  "kernelspec": {
   "display_name": "Python 3 (ipykernel)",
   "language": "python",
   "name": "python3"
  },
  "language_info": {
   "codemirror_mode": {
    "name": "ipython",
    "version": 3
   },
   "file_extension": ".py",
   "mimetype": "text/x-python",
   "name": "python",
   "nbconvert_exporter": "python",
   "pygments_lexer": "ipython3",
   "version": "3.9.7"
  }
 },
 "nbformat": 4,
 "nbformat_minor": 5
}
