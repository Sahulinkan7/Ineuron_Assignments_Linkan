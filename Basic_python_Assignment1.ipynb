{
 "cells": [
  {
   "cell_type": "markdown",
   "id": "ae4eabca",
   "metadata": {},
   "source": [
    "# 1. In the below elements which of them are values or an expression? eg:- values can be integer or string and expressions will be mathematical operators."
   ]
  },
  {
   "cell_type": "code",
   "execution_count": 1,
   "id": "ffa071d2",
   "metadata": {},
   "outputs": [
    {
     "name": "stdout",
     "output_type": "stream",
     "text": [
      "\n",
      "*    :  expression\n",
      "'hello'  :  value\n",
      "-87.8    :  value\n",
      "-        :  expression\n",
      "/        :  expression\n",
      "+        :  expression\n",
      "6        :  value\n",
      "\n",
      "\n"
     ]
    }
   ],
   "source": [
    "# Answer : \n",
    "print(\"\"\"\n",
    "*    :  expression\n",
    "'hello'  :  value\n",
    "-87.8    :  value\n",
    "-        :  expression\n",
    "/        :  expression\n",
    "+        :  expression\n",
    "6        :  value\n",
    "\n",
    "\"\"\")\n"
   ]
  },
  {
   "cell_type": "markdown",
   "id": "3d1e0e33",
   "metadata": {},
   "source": [
    "# 2. What is the difference between string and variable?"
   ]
  },
  {
   "cell_type": "markdown",
   "id": "00c6cd3a",
   "metadata": {},
   "source": [
    " String is a data type in python. String data type is a type of variable which contains characters with in double or single quotes and texts and alphanumeric values.Whereas variable is a temporary memory which can hold a data of any type like integer , string , float and so on."
   ]
  },
  {
   "cell_type": "markdown",
   "id": "80e9d17e",
   "metadata": {},
   "source": [
    "# 3. Describe three different data types."
   ]
  },
  {
   "cell_type": "markdown",
   "id": "b550c5d0",
   "metadata": {},
   "source": [
    "1. int : integer type of data like numeric values. ex :  12,45,67 ,998\n",
    "2. float : its is the numeric values with decimal places. ex : 23.88, 12.09,09.98, 0.23 ,0.343\n",
    "3. string : it contains characters, text with in double or single quotes . ex : 'Linkan', 'Ineuron','India','ABC5'"
   ]
  },
  {
   "cell_type": "markdown",
   "id": "cc13cae9",
   "metadata": {},
   "source": [
    "# 4. What is an expression made up of? What do all expressions do?"
   ]
  },
  {
   "cell_type": "markdown",
   "id": "0354041d",
   "metadata": {},
   "source": [
    "Expressions contains the values,variables,operators to evaluate some result.\n",
    "res=2*4 here it evaluates the res variable. "
   ]
  },
  {
   "cell_type": "markdown",
   "id": "9b0c9f6b",
   "metadata": {},
   "source": [
    "# 5. This assignment statements, like spam = 10. What is the difference between an expression and a statement?"
   ]
  },
  {
   "cell_type": "markdown",
   "id": "cf276190",
   "metadata": {},
   "source": [
    "Expressions contains the values,variables,operators to evaluate some result. res=2*4 here it evaluates the res variable. But statement is just a command which follows to execute in the program to show the output. spam=10, here 10 is being assigned to the vriable called \"spam\"."
   ]
  },
  {
   "cell_type": "markdown",
   "id": "11f16a69",
   "metadata": {},
   "source": [
    "# 6. After running the following code, what does the variable bacon contain?\n",
    "bacon = 22\n",
    "bacon + 1"
   ]
  },
  {
   "cell_type": "code",
   "execution_count": 2,
   "id": "2b58df2a",
   "metadata": {},
   "outputs": [
    {
     "data": {
      "text/plain": [
       "22"
      ]
     },
     "execution_count": 2,
     "metadata": {},
     "output_type": "execute_result"
    }
   ],
   "source": [
    "bacon = 22\n",
    "\n",
    "bacon + 1\n",
    "bacon #Ideally bacon variable contains the value 22 only."
   ]
  },
  {
   "cell_type": "markdown",
   "id": "fc1b1475",
   "metadata": {},
   "source": [
    "# 7. What should the values of the following two terms be?\n",
    "'spam' + 'spamspam'\n",
    "'spam' * 3"
   ]
  },
  {
   "cell_type": "code",
   "execution_count": 3,
   "id": "83ff915e",
   "metadata": {},
   "outputs": [
    {
     "data": {
      "text/plain": [
       "'spamspamspam'"
      ]
     },
     "execution_count": 3,
     "metadata": {},
     "output_type": "execute_result"
    }
   ],
   "source": [
    "'spam' + 'spamspam' #first 'spam' gets concatinated with 'spamspam'.\n",
    "'spam' * 3 # 'spam' gets concatinated 3 times when multiplied with 3.\n",
    "#both the expression prits 'spam' 3 times in a single output line."
   ]
  },
  {
   "cell_type": "markdown",
   "id": "e02f7c73",
   "metadata": {},
   "source": [
    "# 8. Why is eggs a valid variable name while 100 is invalid?"
   ]
  },
  {
   "cell_type": "markdown",
   "id": "017c51eb",
   "metadata": {},
   "source": [
    "vriable name can not be started with numbrs like 1,2,3 etc. so 100 is not a valid variable name. 'eggs' is valid variable name as it starts with letter."
   ]
  },
  {
   "cell_type": "markdown",
   "id": "d537eecf",
   "metadata": {},
   "source": [
    "# 9. What three functions can be used to get the integer, floating-point number, or string version of a value?"
   ]
  },
  {
   "cell_type": "markdown",
   "id": "26dd750f",
   "metadata": {},
   "source": [
    "str(), int(), float()"
   ]
  },
  {
   "cell_type": "markdown",
   "id": "a0e8850a",
   "metadata": {},
   "source": [
    "# 10. Why does this expression cause an error? How can you fix it?\n",
    "'I have eaten ' + 99 + ' burritos.'"
   ]
  },
  {
   "cell_type": "code",
   "execution_count": 4,
   "id": "43bfe275",
   "metadata": {},
   "outputs": [
    {
     "ename": "TypeError",
     "evalue": "can only concatenate str (not \"int\") to str",
     "output_type": "error",
     "traceback": [
      "\u001b[1;31m---------------------------------------------------------------------------\u001b[0m",
      "\u001b[1;31mTypeError\u001b[0m                                 Traceback (most recent call last)",
      "\u001b[1;32m~\\AppData\\Local\\Temp/ipykernel_13744/2975878109.py\u001b[0m in \u001b[0;36m<module>\u001b[1;34m\u001b[0m\n\u001b[1;32m----> 1\u001b[1;33m \u001b[1;34m'I have eaten '\u001b[0m \u001b[1;33m+\u001b[0m \u001b[1;36m99\u001b[0m \u001b[1;33m+\u001b[0m \u001b[1;34m' burritos.'\u001b[0m\u001b[1;33m\u001b[0m\u001b[1;33m\u001b[0m\u001b[0m\n\u001b[0m\u001b[0;32m      2\u001b[0m \u001b[1;31m# As 99 is an integer and we are trying to concatinate with strings , so it will show error.To concatinate 99 with other strings, typecasting need to be done .\u001b[0m\u001b[1;33m\u001b[0m\u001b[1;33m\u001b[0m\u001b[0m\n",
      "\u001b[1;31mTypeError\u001b[0m: can only concatenate str (not \"int\") to str"
     ]
    }
   ],
   "source": [
    "'I have eaten ' + 99 + ' burritos.'\n",
    "# As 99 is an integer and we are trying to concatinate with strings , so it will show error.To concatinate 99 with other strings, typecasting need to be done .\n"
   ]
  },
  {
   "cell_type": "code",
   "execution_count": 5,
   "id": "b3c743e0",
   "metadata": {},
   "outputs": [
    {
     "data": {
      "text/plain": [
       "'I have eaten 99 burritos.'"
      ]
     },
     "execution_count": 5,
     "metadata": {},
     "output_type": "execute_result"
    }
   ],
   "source": [
    "# fix can be done like this\n",
    "'I have eaten ' + '99' + ' burritos.' # 99 is now a string as its with in single quote '99'."
   ]
  },
  {
   "cell_type": "code",
   "execution_count": null,
   "id": "9fe86168",
   "metadata": {},
   "outputs": [],
   "source": []
  }
 ],
 "metadata": {
  "kernelspec": {
   "display_name": "Python 3 (ipykernel)",
   "language": "python",
   "name": "python3"
  },
  "language_info": {
   "codemirror_mode": {
    "name": "ipython",
    "version": 3
   },
   "file_extension": ".py",
   "mimetype": "text/x-python",
   "name": "python",
   "nbconvert_exporter": "python",
   "pygments_lexer": "ipython3",
   "version": "3.9.7"
  }
 },
 "nbformat": 4,
 "nbformat_minor": 5
}
