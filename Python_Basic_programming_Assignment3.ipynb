{
 "cells": [
  {
   "cell_type": "markdown",
   "id": "7e1cfb5d",
   "metadata": {},
   "source": [
    "# 1.Write a Python Program to Check if a Number is Positive, Negative or Zero?"
   ]
  },
  {
   "cell_type": "code",
   "execution_count": 1,
   "id": "2a0d509c",
   "metadata": {},
   "outputs": [
    {
     "name": "stdout",
     "output_type": "stream",
     "text": [
      "Enter a number : 7\n",
      "The number 7.0 is a positive number\n"
     ]
    }
   ],
   "source": [
    "num=float(input('Enter a number : '))\n",
    "\n",
    "if num==0:\n",
    "    print(f'The number {num} is zero.')\n",
    "if num>0:\n",
    "    print(f\"The number {num} is a positive number\")\n",
    "if num<0:\n",
    "    print(f\"The number {num} is a negative number\")"
   ]
  },
  {
   "cell_type": "markdown",
   "id": "a487566c",
   "metadata": {},
   "source": [
    "# 2.Write a Python Program to Check if a Number is Odd or Even?"
   ]
  },
  {
   "cell_type": "code",
   "execution_count": 2,
   "id": "8b25d539",
   "metadata": {},
   "outputs": [
    {
     "name": "stdout",
     "output_type": "stream",
     "text": [
      "Enter a number : 22\n",
      "The number 22 is even. \n"
     ]
    }
   ],
   "source": [
    "num=int(input('Enter a number : '))\n",
    "\n",
    "if num%2==0:\n",
    "    print(f\"The number {num} is even. \")\n",
    "else:\n",
    "    print(f\"The number {num} is odd.\")"
   ]
  },
  {
   "cell_type": "markdown",
   "id": "7e167485",
   "metadata": {},
   "source": [
    "# 3.Write a Python Program to Check Leap Year?"
   ]
  },
  {
   "cell_type": "code",
   "execution_count": 3,
   "id": "f080dc35",
   "metadata": {},
   "outputs": [
    {
     "name": "stdout",
     "output_type": "stream",
     "text": [
      "Enter a year: 2022\n",
      "2022 is not a leap year \n"
     ]
    }
   ],
   "source": [
    "year=int(input('Enter a year: '))\n",
    "\n",
    "if (year%400==0) and (year%100==0):\n",
    "    print(f\"{year} is a leap year \")\n",
    "elif (year%4==0) and (year%100!=0):\n",
    "    print(f\"{year} is a leap year \")\n",
    "else:\n",
    "    print(f\"{year} is not a leap year \")"
   ]
  },
  {
   "cell_type": "markdown",
   "id": "eef08686",
   "metadata": {},
   "source": [
    "# 4.Write a Python Program to Check Prime Number?"
   ]
  },
  {
   "cell_type": "code",
   "execution_count": 4,
   "id": "ad5d0bfa",
   "metadata": {},
   "outputs": [
    {
     "name": "stdout",
     "output_type": "stream",
     "text": [
      "Enter a number : 11\n",
      "11 is a prime number. \n"
     ]
    }
   ],
   "source": [
    "num=int(input('Enter a number : '))\n",
    "\n",
    "flag=False\n",
    "\n",
    "if num>1:\n",
    "    for i in range(2,num):\n",
    "        if num%i == 0:\n",
    "            flag=True\n",
    "            break\n",
    "\n",
    "if flag==True:\n",
    "    print(f\"{num} is not a prime number.\")\n",
    "else:\n",
    "    print(f\"{num} is a prime number. \")\n"
   ]
  },
  {
   "cell_type": "markdown",
   "id": "35f2a1f0",
   "metadata": {},
   "source": [
    "# 5.Write a Python Program to Print all Prime Numbers in an Interval of 1-10000?"
   ]
  },
  {
   "cell_type": "code",
   "execution_count": 5,
   "id": "2381df4e",
   "metadata": {},
   "outputs": [
    {
     "name": "stdout",
     "output_type": "stream",
     "text": [
      "Prime Numbers in an interval of 1-1000 are as follows:\n",
      "\n",
      "[2, 3, 5, 7, 11, 13, 17, 19, 23, 29, 31, 37, 41, 43, 47, 53, 59, 61, 67, 71, 73, 79, 83, 89, 97, 101, 103, 107, 109, 113, 127, 131, 137, 139, 149, 151, 157, 163, 167, 173, 179, 181, 191, 193, 197, 199, 211, 223, 227, 229, 233, 239, 241, 251, 257, 263, 269, 271, 277, 281, 283, 293, 307, 311, 313, 317, 331, 337, 347, 349, 353, 359, 367, 373, 379, 383, 389, 397, 401, 409, 419, 421, 431, 433, 439, 443, 449, 457, 461, 463, 467, 479, 487, 491, 499, 503, 509, 521, 523, 541, 547, 557, 563, 569, 571, 577, 587, 593, 599, 601, 607, 613, 617, 619, 631, 641, 643, 647, 653, 659, 661, 673, 677, 683, 691, 701, 709, 719, 727, 733, 739, 743, 751, 757, 761, 769, 773, 787, 797, 809, 811, 821, 823, 827, 829, 839, 853, 857, 859, 863, 877, 881, 883, 887, 907, 911, 919, 929, 937, 941, 947, 953, 967, 971, 977, 983, 991, 997]\n"
     ]
    }
   ],
   "source": [
    "print('Prime Numbers in an interval of 1-1000 are as follows:\\n')\n",
    "prime=[]\n",
    "for i in range(1,1000):\n",
    "    if i>1:\n",
    "        for j in range(2,i):\n",
    "            if i%j==0:\n",
    "                break\n",
    "        else:\n",
    "            prime.append(i)\n",
    "print(prime)"
   ]
  },
  {
   "cell_type": "code",
   "execution_count": null,
   "id": "91297351",
   "metadata": {},
   "outputs": [],
   "source": []
  }
 ],
 "metadata": {
  "kernelspec": {
   "display_name": "Python 3 (ipykernel)",
   "language": "python",
   "name": "python3"
  },
  "language_info": {
   "codemirror_mode": {
    "name": "ipython",
    "version": 3
   },
   "file_extension": ".py",
   "mimetype": "text/x-python",
   "name": "python",
   "nbconvert_exporter": "python",
   "pygments_lexer": "ipython3",
   "version": "3.9.7"
  }
 },
 "nbformat": 4,
 "nbformat_minor": 5
}
