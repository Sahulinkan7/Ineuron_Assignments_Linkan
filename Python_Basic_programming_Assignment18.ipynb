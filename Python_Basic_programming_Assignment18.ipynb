{
 "cells": [
  {
   "cell_type": "markdown",
   "id": "1c504d4d",
   "metadata": {},
   "source": [
    "# Basic Python Programming Assignment 18"
   ]
  },
  {
   "cell_type": "markdown",
   "id": "e976b2c0",
   "metadata": {},
   "source": [
    "# Question 1\n",
    "Create a function that takes a list of non-negative integers and strings and return a new list without the strings.\n",
    "Examples\n",
    "filter_list([1, 2, \"a\", \"b\"]) ➞ [1, 2]\n",
    "\n",
    "filter_list([1, \"a\", \"b\", 0, 15]) ➞ [1, 0, 15]\n",
    "\n",
    "filter_list([1, 2, \"aasf\", \"1\", \"123\", 123]) ➞ [1, 2, 123]\n"
   ]
  },
  {
   "cell_type": "code",
   "execution_count": 1,
   "id": "b58cdf91",
   "metadata": {},
   "outputs": [
    {
     "name": "stdout",
     "output_type": "stream",
     "text": [
      "[1, 2, 123]\n"
     ]
    }
   ],
   "source": [
    "def filter_list(lst):\n",
    "    newlst=[]\n",
    "    for i in range(len(lst)):\n",
    "        if type(lst[i])==int:\n",
    "            newlst.append(lst[i])\n",
    "    return newlst\n",
    "op=filter_list([1, 2, \"aasf\", \"1\", \"123\", 123])\n",
    "print(op)"
   ]
  },
  {
   "cell_type": "markdown",
   "id": "1b1b6021",
   "metadata": {},
   "source": [
    "# Question 2\n",
    "The \"Reverser\" takes a string as input and returns that string in reverse order, with the opposite case.\n",
    "Examples\n",
    "reverse(\"Hello World\") ➞ \"DLROw OLLEh\"\n",
    "\n",
    "reverse(\"ReVeRsE\") ➞ \"eSrEvEr\"\n",
    "\n",
    "reverse(\"Radar\") ➞ \"RADAr\""
   ]
  },
  {
   "cell_type": "code",
   "execution_count": 2,
   "id": "b8e7d477",
   "metadata": {},
   "outputs": [
    {
     "name": "stdout",
     "output_type": "stream",
     "text": [
      "['eSrEvEr']\n"
     ]
    }
   ],
   "source": [
    "def reverse(s):\n",
    "    s1=s.split()\n",
    "    s1=s1[::-1]\n",
    "    news=[]\n",
    "    for i in s1:\n",
    "        j=0\n",
    "        k=len(i)-1\n",
    "        x=list(i)\n",
    "        while j<k:\n",
    "            x[j],x[k]=x[k],x[j]\n",
    "            j+=1\n",
    "            k-=1            \n",
    "        x=''.join(x)\n",
    "        news.append(x)\n",
    "    newss=[]\n",
    "    for i in range(len(news)):\n",
    "        newst=list(news[i])\n",
    "        for j in range(len(newst)):\n",
    "            if newst[j].isupper():\n",
    "                newst[j]=newst[j].lower()\n",
    "            else:\n",
    "                newst[j]=newst[j].upper()\n",
    "        newst=''.join(newst)\n",
    "        newss.append(newst)\n",
    "    return newss\n",
    "\n",
    "op=reverse(\"ReVeRsE\")\n",
    "print(op)"
   ]
  },
  {
   "cell_type": "markdown",
   "id": "b1be0c14",
   "metadata": {},
   "source": [
    "# Question 3\n",
    "You can assign variables from lists like this:\n",
    "lst = [1, 2, 3, 4, 5, 6]\n",
    "first = lst[0]\n",
    "middle = lst[1:-1]\n",
    "last = lst[-1]\n",
    "\n",
    "print(first) ➞ outputs 1\n",
    "print(middle) ➞ outputs [2, 3, 4, 5]\n",
    "print(last) ➞ outputs 6\n",
    "With Python 3, you can assign variables from lists in a much more succinct way. Create variables first, middle and last from the given list using destructuring assignment (check the Resources tab for some examples), where:\n",
    "first  ➞ 1\n",
    "\n",
    "middle ➞ [2, 3, 4, 5]\n",
    "\n",
    "last ➞ 6\n",
    "Your task is to unpack the list writeyourcodehere into three variables, being first, middle, and last, with middle being everything in between the first and last element. Then print all three variables."
   ]
  },
  {
   "cell_type": "code",
   "execution_count": 3,
   "id": "4aaca2d0",
   "metadata": {},
   "outputs": [
    {
     "name": "stdout",
     "output_type": "stream",
     "text": [
      "1\n",
      "[2, 3, 4, 5]\n",
      "6\n"
     ]
    }
   ],
   "source": [
    "lst=[1, 2, 3, 4, 5, 6]\n",
    "first=lst[0]\n",
    "middle=lst[1:-1]\n",
    "last=lst[-1]\n",
    "print(first)\n",
    "print(middle)\n",
    "print(last)"
   ]
  },
  {
   "cell_type": "markdown",
   "id": "fcb986a8",
   "metadata": {},
   "source": [
    "# Question 4\n",
    "Write a function that calculates the factorial of a number recursively.\n",
    "Examples\n",
    "factorial(5) ➞ 120\n",
    "\n",
    "factorial(3) ➞ 6\n",
    "\n",
    "factorial(1) ➞ 1\n",
    "\n",
    "factorial(0) ➞ 1"
   ]
  },
  {
   "cell_type": "code",
   "execution_count": 4,
   "id": "9b43fe57",
   "metadata": {},
   "outputs": [
    {
     "name": "stdout",
     "output_type": "stream",
     "text": [
      "6\n"
     ]
    }
   ],
   "source": [
    "def factorial(n):\n",
    "    if n==0 or n==1:\n",
    "        return 1\n",
    "    elif n<0:\n",
    "        return -1\n",
    "    else:\n",
    "        res=n*factorial(n-1)\n",
    "        return res\n",
    "op=factorial(3)\n",
    "print(op)"
   ]
  },
  {
   "cell_type": "markdown",
   "id": "61856b09",
   "metadata": {},
   "source": [
    "# Question 5\n",
    "Write a function that moves all elements of one type to the end of the list.\n",
    "Examples\n",
    "move_to_end([1, 3, 2, 4, 4, 1], 1) ➞ [3, 2, 4, 4, 1, 1]\n",
    "# Move all the 1s to the end of the array.\n",
    "\n",
    "move_to_end([7, 8, 9, 1, 2, 3, 4], 9) ➞ [7, 8, 1, 2, 3, 4, 9]\n",
    "\n",
    "move_to_end([\"a\", \"a\", \"a\", \"b\"], \"a\") ➞ [\"b\", \"a\", \"a\", \"a\"]\n",
    "\n"
   ]
  },
  {
   "cell_type": "code",
   "execution_count": 5,
   "id": "2746f3b7",
   "metadata": {},
   "outputs": [
    {
     "name": "stdout",
     "output_type": "stream",
     "text": [
      "[3, 2, 4, 4, 1, 1]\n"
     ]
    }
   ],
   "source": [
    "def move_to_end(ls,e):\n",
    "    newlst=[]\n",
    "    count=0\n",
    "    for i in range(len(ls)):\n",
    "        if ls[i]!=e:\n",
    "            newlst.append(ls[i])\n",
    "        else:\n",
    "            count+=1\n",
    "    for i in range(count):\n",
    "        newlst.append(e)\n",
    "    return newlst\n",
    "op=move_to_end([1, 3, 2, 4, 4, 1], 1)\n",
    "print(op)"
   ]
  },
  {
   "cell_type": "code",
   "execution_count": null,
   "id": "7507a0c6",
   "metadata": {},
   "outputs": [],
   "source": []
  }
 ],
 "metadata": {
  "kernelspec": {
   "display_name": "Python 3 (ipykernel)",
   "language": "python",
   "name": "python3"
  },
  "language_info": {
   "codemirror_mode": {
    "name": "ipython",
    "version": 3
   },
   "file_extension": ".py",
   "mimetype": "text/x-python",
   "name": "python",
   "nbconvert_exporter": "python",
   "pygments_lexer": "ipython3",
   "version": "3.9.7"
  }
 },
 "nbformat": 4,
 "nbformat_minor": 5
}
