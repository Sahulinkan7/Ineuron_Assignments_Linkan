{
 "cells": [
  {
   "cell_type": "markdown",
   "id": "29a1f5d6",
   "metadata": {},
   "source": [
    "# Python Basic Programming Assignment 11"
   ]
  },
  {
   "cell_type": "markdown",
   "id": "0b4a3082",
   "metadata": {},
   "source": [
    "# 1.Write a Python program to find words which are greater than given length k?"
   ]
  },
  {
   "cell_type": "code",
   "execution_count": 1,
   "id": "ec162eae",
   "metadata": {},
   "outputs": [
    {
     "name": "stdout",
     "output_type": "stream",
     "text": [
      "Enter your text message : Hi How are you dear ?\n",
      "Enter your words length limit : 2\n",
      "['How', 'are', 'you', 'dear']\n"
     ]
    }
   ],
   "source": [
    "def string_length_greater(string,n):\n",
    "    new_string=[]\n",
    "    text=string.split(\" \")\n",
    "    for i in text:\n",
    "        if len(i)>n:\n",
    "            new_string.append(i)\n",
    "    return new_string\n",
    "\n",
    "input_string=input('Enter your text message : ')\n",
    "input_length_limit=int(input('Enter your words length limit : '))\n",
    "output=string_length_greater(input_string,input_length_limit)\n",
    "print(output)"
   ]
  },
  {
   "cell_type": "markdown",
   "id": "e0098f28",
   "metadata": {},
   "source": [
    "# 2.Write a Python program for removing i-th character from a string?"
   ]
  },
  {
   "cell_type": "code",
   "execution_count": 2,
   "id": "cb0f90a4",
   "metadata": {},
   "outputs": [
    {
     "name": "stdout",
     "output_type": "stream",
     "text": [
      "Enter your String : Ineuron\n",
      "Enter the ith position you want to remove : 2\n",
      "Inuron\n"
     ]
    }
   ],
   "source": [
    "def rem_ith(strng,i):\n",
    "    for j in range(len(strng)):\n",
    "        if j==i:\n",
    "           strng=strng.replace(strng[i],\"\",1)\n",
    "    return strng\n",
    "\n",
    "input_string=input('Enter your String : ')\n",
    "ith_char=int(input('Enter the ith position you want to remove : '))\n",
    "output=rem_ith(input_string,ith_char)\n",
    "print(output)"
   ]
  },
  {
   "cell_type": "markdown",
   "id": "db21e38b",
   "metadata": {},
   "source": [
    "# 3.Write a Python program to split and join a string?"
   ]
  },
  {
   "cell_type": "code",
   "execution_count": 3,
   "id": "ecca8c6b",
   "metadata": {},
   "outputs": [
    {
     "name": "stdout",
     "output_type": "stream",
     "text": [
      "Enter your string : I love my India\n",
      "I-love-my-India\n"
     ]
    }
   ],
   "source": [
    "def split_join(string):\n",
    "    string=string.split()\n",
    "    string=\"-\".join(string)\n",
    "    return string\n",
    "\n",
    "input_string=input('Enter your string : ')\n",
    "output=split_join(input_string)\n",
    "print(output)"
   ]
  },
  {
   "cell_type": "markdown",
   "id": "9832f8b7",
   "metadata": {},
   "source": [
    "# 4.Write a Python to check if a given string is binary string or not?"
   ]
  },
  {
   "cell_type": "code",
   "execution_count": 4,
   "id": "9bfbd029",
   "metadata": {},
   "outputs": [
    {
     "name": "stdout",
     "output_type": "stream",
     "text": [
      "Enter your string : 10100111100010101\n",
      "String 10100111100010101 is binary.\n"
     ]
    }
   ],
   "source": [
    "def check_binary(string):\n",
    "    count=0\n",
    "    t='01'\n",
    "    for char in string:\n",
    "        if char not in t:\n",
    "            count=1\n",
    "            break\n",
    "    if count:\n",
    "        return f\" String {string} is not binary.\"\n",
    "    else:\n",
    "        return f\"String {string} is binary.\"\n",
    "\n",
    "input_string=input('Enter your string : ')\n",
    "output=check_binary(input_string)\n",
    "print(output)"
   ]
  },
  {
   "cell_type": "markdown",
   "id": "ac022833",
   "metadata": {},
   "source": [
    "# 5.Write a Python program to find uncommon words from two Strings?"
   ]
  },
  {
   "cell_type": "code",
   "execution_count": 5,
   "id": "350ffdc7",
   "metadata": {},
   "outputs": [
    {
     "name": "stdout",
     "output_type": "stream",
     "text": [
      "Enter your first string : I love India\n",
      "Enter your second string : I love Odisha\n",
      "The uncommon words are :  India Odisha\n"
     ]
    }
   ],
   "source": [
    "def uncommon(string1,string2):\n",
    "    first_list=string1.split()\n",
    "    second_list=string2.split()\n",
    "    uncom=\"\"\n",
    "    for i in first_list:\n",
    "        if i not in second_list:\n",
    "            uncom+=\" \"+i\n",
    "    for j in second_list:\n",
    "        if j not in first_list:\n",
    "            uncom+=\" \"+j\n",
    "    return uncom\n",
    "\n",
    "\n",
    "string1=input('Enter your first string : ')\n",
    "string2=input('Enter your second string : ')\n",
    "output=uncommon(string1,string2)\n",
    "print(f\"The uncommon words are : {output}\")"
   ]
  },
  {
   "cell_type": "markdown",
   "id": "64fc1529",
   "metadata": {},
   "source": [
    "# 6.Write a Python to find all duplicate characters in string?"
   ]
  },
  {
   "cell_type": "code",
   "execution_count": 6,
   "id": "c9ac5e59",
   "metadata": {},
   "outputs": [
    {
     "name": "stdout",
     "output_type": "stream",
     "text": [
      "Enter your string : hello buddy\n",
      "Duplicate charaters are : ['l', 'd'] \n"
     ]
    }
   ],
   "source": [
    "def find_duplicate(string):\n",
    "    duplicate=[]\n",
    "    for i in string:\n",
    "        if string.count(i)>1 and i not in duplicate:\n",
    "            duplicate.append(i)\n",
    "    return duplicate\n",
    "\n",
    "input_string=input('Enter your string : ')\n",
    "output=find_duplicate(input_string)\n",
    "print(f\"Duplicate charaters are : {output} \")"
   ]
  },
  {
   "cell_type": "markdown",
   "id": "d2e345a1",
   "metadata": {},
   "source": [
    "# 7.Write a Python Program to check if a string contains any special character?"
   ]
  },
  {
   "cell_type": "code",
   "execution_count": 7,
   "id": "71aa9037",
   "metadata": {},
   "outputs": [
    {
     "name": "stdout",
     "output_type": "stream",
     "text": [
      "Enter your String : sahulinkan7@gmail.com-gmail@account##12@#$\n",
      "String 'sahulinkan7@gmail.com-gmail@account##12@#$' contains special characters :  {'@', '$', '#'}.\n"
     ]
    }
   ],
   "source": [
    "def check_specialchar(string):\n",
    "    count=0\n",
    "    string.split()\n",
    "    spcl='[@_!#$%^&*()<>?/\\|}{~:]'\n",
    "    spcl_in=[]\n",
    "    for i in range(len(string)):\n",
    "        if string[i] in spcl:\n",
    "            spcl_in.append(string[i])\n",
    "            count+=1\n",
    "    if count:\n",
    "        return f\"String '{string}' contains special characters :  {set(spcl_in)}.\"\n",
    "    else:\n",
    "        return f\"String '{string}' does not contain any special character.\"\n",
    "\n",
    "input_string=input('Enter your String : ')\n",
    "output=check_specialchar(input_string)\n",
    "print(output)"
   ]
  },
  {
   "cell_type": "code",
   "execution_count": null,
   "id": "281f3bbb",
   "metadata": {},
   "outputs": [],
   "source": []
  }
 ],
 "metadata": {
  "kernelspec": {
   "display_name": "Python 3 (ipykernel)",
   "language": "python",
   "name": "python3"
  },
  "language_info": {
   "codemirror_mode": {
    "name": "ipython",
    "version": 3
   },
   "file_extension": ".py",
   "mimetype": "text/x-python",
   "name": "python",
   "nbconvert_exporter": "python",
   "pygments_lexer": "ipython3",
   "version": "3.9.7"
  }
 },
 "nbformat": 4,
 "nbformat_minor": 5
}
