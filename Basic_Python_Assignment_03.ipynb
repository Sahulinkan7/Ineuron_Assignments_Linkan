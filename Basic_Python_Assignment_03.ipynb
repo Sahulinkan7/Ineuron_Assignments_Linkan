{
 "cells": [
  {
   "cell_type": "markdown",
   "id": "7735b2b8",
   "metadata": {},
   "source": [
    "# Python Basic Assignment - 3"
   ]
  },
  {
   "cell_type": "markdown",
   "id": "8a8e8ccd",
   "metadata": {},
   "source": [
    "# 1. Why are functions advantageous to have in your programs?"
   ]
  },
  {
   "cell_type": "markdown",
   "id": "637190c4",
   "metadata": {},
   "source": [
    "With the help of function code, we can avoid rewriting the same logic or code again and again inside a program. Basically we can avoid repeating our codes just by reusing the function code by calling it at required places."
   ]
  },
  {
   "cell_type": "markdown",
   "id": "0a1f9ad5",
   "metadata": {},
   "source": [
    "# 2. When does the code in a function run: when it's specified or when it's called?"
   ]
  },
  {
   "cell_type": "markdown",
   "id": "799f5309",
   "metadata": {},
   "source": [
    "Function code run when it is being called at required place inside a program. once the function being called, instantly the program runs the function code first , then the other section of the program run. "
   ]
  },
  {
   "cell_type": "markdown",
   "id": "d2bc08ae",
   "metadata": {},
   "source": [
    "# 3. What statement creates a function?"
   ]
  },
  {
   "cell_type": "markdown",
   "id": "b7f629bc",
   "metadata": {},
   "source": [
    "In python , using the \"def\" keyword function can be created. arguemenets can be passed to the function.\n",
    "\n",
    "statement for python function as below :\n",
    "    \n",
    "    def function_name():\n",
    "        \n",
    "        #function code\n",
    "    \n",
    "    #functioncall\n",
    "    \n",
    "    function_name()"
   ]
  },
  {
   "cell_type": "markdown",
   "id": "0542e7f3",
   "metadata": {},
   "source": [
    "# 4. What is the difference between a function and a function call?"
   ]
  },
  {
   "cell_type": "code",
   "execution_count": 12,
   "id": "aa27adbd",
   "metadata": {},
   "outputs": [
    {
     "name": "stdout",
     "output_type": "stream",
     "text": [
      "7\n"
     ]
    }
   ],
   "source": [
    "# function is a block of code which do some operation and returns some result. function may take some input parameters and executes code on it and returns result.\n",
    "\n",
    "# function can only be run by calling it inside a program.\n",
    "\n",
    "# function can be defined by using \"def\" keyword and function can be called by using its name.\n",
    "\n",
    "# example\n",
    "\n",
    "def sum(a,b): #function creation\n",
    "    c=a+b\n",
    "    return c\n",
    "\n",
    "x=sum(3,4) #functioncall\n",
    "print(x)"
   ]
  },
  {
   "cell_type": "markdown",
   "id": "5396afe7",
   "metadata": {},
   "source": [
    "# 5. How many global scopes are there in a Python program? How many local scopes?"
   ]
  },
  {
   "cell_type": "code",
   "execution_count": null,
   "id": "42eb3c29",
   "metadata": {},
   "outputs": [],
   "source": [
    "There are 4 types of scopes in python.\n",
    "Those are \n",
    "\n",
    "1) Global\n",
    "2) Local\n",
    "3) Enclosing\n",
    "4) Inbuilt"
   ]
  },
  {
   "cell_type": "markdown",
   "id": "78afa73c",
   "metadata": {},
   "source": [
    "# 6. What happens to variables in a local scope when the function call returns?"
   ]
  },
  {
   "cell_type": "markdown",
   "id": "3f045067",
   "metadata": {},
   "source": [
    "when the function call returns , then the variables in local scope get destroyed."
   ]
  },
  {
   "cell_type": "markdown",
   "id": "d482e80c",
   "metadata": {},
   "source": [
    "# 7. What is the concept of a return value? Is it possible to have a return value in an expression?"
   ]
  },
  {
   "cell_type": "markdown",
   "id": "fbe3de2c",
   "metadata": {},
   "source": [
    "return value is that which gives the value to the caller of the function at the end of the execution of block of code inside a function. return value can be an integer,float,object,string,boolean or None type. It is possible to have a return value in an expression, as in python it always returns a None value implicitly to the function caller even if return value is not being mentioned at the end of function."
   ]
  },
  {
   "cell_type": "markdown",
   "id": "610c5359",
   "metadata": {},
   "source": [
    "# 8. If a function does not have a return statement, what is the return value of a call to that function?"
   ]
  },
  {
   "cell_type": "markdown",
   "id": "3ca044ac",
   "metadata": {},
   "source": [
    "If a function does not have a return statement then also python implicitly return a None value to the program."
   ]
  },
  {
   "cell_type": "markdown",
   "id": "be840565",
   "metadata": {},
   "source": [
    "# 9. How do you make a function variable refer to the global variable?"
   ]
  },
  {
   "cell_type": "code",
   "execution_count": 34,
   "id": "4f350a8e",
   "metadata": {},
   "outputs": [
    {
     "name": "stdout",
     "output_type": "stream",
     "text": [
      "hello , I am local\n",
      "This is Global\n"
     ]
    }
   ],
   "source": [
    "# By using 'global' keyword function variable can be referred as a global variable.\n",
    "\n",
    "#example\n",
    "\n",
    "def example():\n",
    "    global k\n",
    "    k=\"This is Global\"\n",
    "    l=\"hello , I am local\"\n",
    "    print(l)\n",
    "    \n",
    "    \n",
    "example()\n",
    "print(k)"
   ]
  },
  {
   "cell_type": "markdown",
   "id": "d070cd25",
   "metadata": {},
   "source": [
    "# 10. What is the data type of None?"
   ]
  },
  {
   "cell_type": "code",
   "execution_count": 10,
   "id": "954e2bc3",
   "metadata": {},
   "outputs": [
    {
     "name": "stdout",
     "output_type": "stream",
     "text": [
      "Data type of None is  <class 'NoneType'>\n"
     ]
    },
    {
     "data": {
      "text/plain": [
       "NoneType"
      ]
     },
     "execution_count": 10,
     "metadata": {},
     "output_type": "execute_result"
    }
   ],
   "source": [
    "print(\"Data type of None is \",type(None))\n",
    "type(None)"
   ]
  },
  {
   "cell_type": "markdown",
   "id": "c11b8a1b",
   "metadata": {},
   "source": [
    "# 11. What does the sentence import areallyourpetsnamederic do?"
   ]
  },
  {
   "cell_type": "markdown",
   "id": "684b9e28",
   "metadata": {},
   "source": [
    "it imports a module named areallyourpetsnamederic."
   ]
  },
  {
   "cell_type": "markdown",
   "id": "089dd1a1",
   "metadata": {},
   "source": [
    "# 12. If you had a bacon() feature in a spam module, what would you call it after importing spam?"
   ]
  },
  {
   "cell_type": "markdown",
   "id": "68328227",
   "metadata": {},
   "source": [
    "function bacon() can be called by importing spam module and calling the function by spam.bacon() ."
   ]
  },
  {
   "cell_type": "markdown",
   "id": "063a724b",
   "metadata": {},
   "source": [
    "# 13. What can you do to save a programme from crashing if it encounters an error?"
   ]
  },
  {
   "cell_type": "markdown",
   "id": "54a0f025",
   "metadata": {},
   "source": [
    "By using the try block inside the program where the error is getting encountered, we can save from crashing."
   ]
  },
  {
   "cell_type": "markdown",
   "id": "5a1cdfa2",
   "metadata": {},
   "source": [
    "# 14. What is the purpose of the try clause? What is the purpose of the except clause?"
   ]
  },
  {
   "cell_type": "markdown",
   "id": "f914a4fa",
   "metadata": {},
   "source": [
    "code which can generate error, we can keep in try clause . if error occures, then the entire program will not crash and it will execute the except clause. hence the programm can be saved from crashing."
   ]
  },
  {
   "cell_type": "code",
   "execution_count": null,
   "id": "aa67532d",
   "metadata": {},
   "outputs": [],
   "source": []
  }
 ],
 "metadata": {
  "kernelspec": {
   "display_name": "Python 3 (ipykernel)",
   "language": "python",
   "name": "python3"
  },
  "language_info": {
   "codemirror_mode": {
    "name": "ipython",
    "version": 3
   },
   "file_extension": ".py",
   "mimetype": "text/x-python",
   "name": "python",
   "nbconvert_exporter": "python",
   "pygments_lexer": "ipython3",
   "version": "3.9.7"
  }
 },
 "nbformat": 4,
 "nbformat_minor": 5
}
