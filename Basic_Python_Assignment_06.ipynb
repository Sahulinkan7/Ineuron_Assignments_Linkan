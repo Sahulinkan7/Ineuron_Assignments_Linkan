{
 "cells": [
  {
   "cell_type": "markdown",
   "id": "dd7353d3",
   "metadata": {},
   "source": [
    "# Basic Python Assignment - 6"
   ]
  },
  {
   "cell_type": "markdown",
   "id": "9bece958",
   "metadata": {},
   "source": [
    "# 1. What are escape characters, and how do you use them?"
   ]
  },
  {
   "cell_type": "markdown",
   "id": "aaa2bd96",
   "metadata": {},
   "source": [
    "escape character in a string is '\\\\' known as backslash. \n",
    "\n",
    "ex : '\\n' , '\\t' "
   ]
  },
  {
   "cell_type": "markdown",
   "id": "42d00660",
   "metadata": {},
   "source": [
    "# 2. What do the escape characters n and t stand for?"
   ]
  },
  {
   "cell_type": "code",
   "execution_count": 1,
   "id": "b0b26afb",
   "metadata": {},
   "outputs": [
    {
     "name": "stdout",
     "output_type": "stream",
     "text": [
      "Hello \n",
      "hi\n",
      "\n",
      "Hello \tHii\n"
     ]
    }
   ],
   "source": [
    "#'\\n' stands for new line. \n",
    "print(\"Hello \\nhi\")\n",
    "print()\n",
    "#'\\t' stands for a tab space between characters or string.\n",
    "print(\"Hello \\tHii\")"
   ]
  },
  {
   "cell_type": "markdown",
   "id": "41e710f5",
   "metadata": {},
   "source": [
    "# 3. What is the way to include backslash characters in a string?"
   ]
  },
  {
   "cell_type": "code",
   "execution_count": 2,
   "id": "082b0c82",
   "metadata": {},
   "outputs": [
    {
     "name": "stdout",
     "output_type": "stream",
     "text": [
      "Hello \\n How are you\n"
     ]
    }
   ],
   "source": [
    "# by using double backlash '\\\\' inside string, backslash '\\' character can be included \n",
    "# for example \n",
    "\n",
    "a=\"Hello \\\\n How are you\"\n",
    "print(a)"
   ]
  },
  {
   "cell_type": "markdown",
   "id": "b2efd49d",
   "metadata": {},
   "source": [
    "# 4. The string \"Howl's Moving Castle\" is a correct value. Why isn't the single quote character in the word Howl's not escaped a problem?"
   ]
  },
  {
   "cell_type": "markdown",
   "id": "11fcf26b",
   "metadata": {},
   "source": [
    "Because double quotes have been used at the beginning and end of the string."
   ]
  },
  {
   "cell_type": "markdown",
   "id": "c9065c3d",
   "metadata": {},
   "source": [
    "# 5. How do you write a string of newlines if you don't want to use the n character?"
   ]
  },
  {
   "cell_type": "code",
   "execution_count": 3,
   "id": "422bbc6c",
   "metadata": {},
   "outputs": [
    {
     "name": "stdout",
     "output_type": "stream",
     "text": [
      "abc\n",
      "def\n"
     ]
    }
   ],
   "source": [
    "print(\"abc\")\n",
    "print(\"def\") #prints in the next line\n"
   ]
  },
  {
   "cell_type": "markdown",
   "id": "0c3ac13a",
   "metadata": {},
   "source": [
    "# 6. What are the values of the given expressions?\n",
    "'Hello, world!'[1]\n",
    "\n",
    "'Hello, world!'[0:5]\n",
    "\n",
    "'Hello, world!'[:5]\n",
    "\n",
    "'Hello, world!'[3:]"
   ]
  },
  {
   "cell_type": "code",
   "execution_count": 4,
   "id": "215012e0",
   "metadata": {},
   "outputs": [
    {
     "name": "stdout",
     "output_type": "stream",
     "text": [
      "e\n",
      "Hello\n",
      "Hello\n",
      "lo, world!\n"
     ]
    }
   ],
   "source": [
    "print('Hello, world!'[1]) #e\n",
    "\n",
    "print('Hello, world!'[0:5]) #Hello\n",
    "\n",
    "print('Hello, world!'[:5])  #Hello\n",
    "\n",
    "print('Hello, world!'[3:])  #lo, world!"
   ]
  },
  {
   "cell_type": "markdown",
   "id": "8bcbcd0d",
   "metadata": {},
   "source": [
    "# 7. What are the values of the following expressions?\n",
    "'Hello'.upper()\n",
    "\n",
    "'Hello'.upper().isupper()\n",
    "\n",
    "'Hello'.upper().lower()"
   ]
  },
  {
   "cell_type": "code",
   "execution_count": 5,
   "id": "860d1907",
   "metadata": {},
   "outputs": [
    {
     "name": "stdout",
     "output_type": "stream",
     "text": [
      "HELLO\n",
      "True\n",
      "hello\n"
     ]
    }
   ],
   "source": [
    "print('Hello'.upper()) #HELLO\n",
    "print('Hello'.upper().isupper()) #True\n",
    "print('Hello'.upper().lower()) #hello"
   ]
  },
  {
   "cell_type": "markdown",
   "id": "b5842811",
   "metadata": {},
   "source": [
    "# 8. What are the values of the following expressions?\n",
    "'Remember, remember, the fifth of July.'.split()\n",
    "\n",
    "'-'.join('There can only one.'.split())"
   ]
  },
  {
   "cell_type": "code",
   "execution_count": 6,
   "id": "dbdf9a22",
   "metadata": {},
   "outputs": [
    {
     "name": "stdout",
     "output_type": "stream",
     "text": [
      "['Remember,', 'remember,', 'the', 'fifth', 'of', 'July.']\n"
     ]
    },
    {
     "data": {
      "text/plain": [
       "'There-can-only-one.'"
      ]
     },
     "execution_count": 6,
     "metadata": {},
     "output_type": "execute_result"
    }
   ],
   "source": [
    "print('Remember, remember, the fifth of July.'.split()) # ['Remember,', 'remember,', 'the', 'fifth', 'of', 'July.']\n",
    "'-'.join('There can only one.'.split()) #'There-can-only-one.'"
   ]
  },
  {
   "cell_type": "markdown",
   "id": "98955fa2",
   "metadata": {},
   "source": [
    "# 9. What are the methods for right-justifying, left-justifying, and centering a string?"
   ]
  },
  {
   "cell_type": "markdown",
   "id": "f1210343",
   "metadata": {},
   "source": [
    "the method for right-justifying : rjust()\n",
    "\n",
    "the method for left-justifying : ljust()\n",
    "\n",
    "the method for center-justifying : center()"
   ]
  },
  {
   "cell_type": "markdown",
   "id": "d5589d82",
   "metadata": {},
   "source": [
    "# 10. What is the best way to remove whitespace characters from the start or end?"
   ]
  },
  {
   "cell_type": "markdown",
   "id": "e48db702",
   "metadata": {},
   "source": [
    "using strip() function, whitespace character from start or end can be removed ."
   ]
  },
  {
   "cell_type": "code",
   "execution_count": null,
   "id": "ca19d511",
   "metadata": {},
   "outputs": [],
   "source": []
  }
 ],
 "metadata": {
  "kernelspec": {
   "display_name": "Python 3 (ipykernel)",
   "language": "python",
   "name": "python3"
  },
  "language_info": {
   "codemirror_mode": {
    "name": "ipython",
    "version": 3
   },
   "file_extension": ".py",
   "mimetype": "text/x-python",
   "name": "python",
   "nbconvert_exporter": "python",
   "pygments_lexer": "ipython3",
   "version": "3.9.7"
  }
 },
 "nbformat": 4,
 "nbformat_minor": 5
}
