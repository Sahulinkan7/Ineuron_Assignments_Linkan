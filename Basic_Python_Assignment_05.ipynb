{
 "cells": [
  {
   "cell_type": "markdown",
   "id": "fdc70299",
   "metadata": {},
   "source": [
    "# Basic Python Assignment - 5"
   ]
  },
  {
   "cell_type": "markdown",
   "id": "9ae98d17",
   "metadata": {},
   "source": [
    "# 1. What does an empty dictionary's code look like?"
   ]
  },
  {
   "cell_type": "code",
   "execution_count": 1,
   "id": "d655b7c5",
   "metadata": {},
   "outputs": [
    {
     "name": "stdout",
     "output_type": "stream",
     "text": [
      "<class 'dict'>\n"
     ]
    }
   ],
   "source": [
    "x={} #empty dictionary using {} curley brackets\n",
    "print(type(x))"
   ]
  },
  {
   "cell_type": "markdown",
   "id": "ace173be",
   "metadata": {},
   "source": [
    "# 2. What is the value of a dictionary value with the key 'foo' and the value 42?"
   ]
  },
  {
   "cell_type": "code",
   "execution_count": 2,
   "id": "3fe9a4b4",
   "metadata": {},
   "outputs": [
    {
     "data": {
      "text/plain": [
       "dict_items([('foo', 42)])"
      ]
     },
     "execution_count": 2,
     "metadata": {},
     "output_type": "execute_result"
    }
   ],
   "source": [
    "f_dict={'foo':42}  #a dictionary value with the key 'foo' and the value 42  {'foo':42}\n",
    "f_dict.items()"
   ]
  },
  {
   "cell_type": "markdown",
   "id": "467c1ffb",
   "metadata": {},
   "source": [
    "# 3. What is the most significant distinction between a dictionary and a list?"
   ]
  },
  {
   "cell_type": "markdown",
   "id": "c60cee94",
   "metadata": {},
   "source": [
    "The items inside a list are in order but the items inside a dictionary are not in order,unordered in dictionary. "
   ]
  },
  {
   "cell_type": "markdown",
   "id": "5ad84f86",
   "metadata": {},
   "source": [
    "# 4. What happens if you try to access spam['foo'] if spam is {'bar': 100}?"
   ]
  },
  {
   "cell_type": "markdown",
   "id": "ddf4db44",
   "metadata": {},
   "source": [
    "key error will occure."
   ]
  },
  {
   "cell_type": "markdown",
   "id": "68c0c26f",
   "metadata": {},
   "source": [
    "# 5. If a dictionary is stored in spam, what is the difference between the expressions 'cat' in spam and 'cat' in spam.keys()?"
   ]
  },
  {
   "cell_type": "markdown",
   "id": "83b2522e",
   "metadata": {},
   "source": [
    "There is no difference in both the expression. In both the expression, in operator checks whether the key is present inside the dictionary or not."
   ]
  },
  {
   "cell_type": "markdown",
   "id": "cc52d5f1",
   "metadata": {},
   "source": [
    "# 6. If a dictionary is stored in spam, what is the difference between the expressions 'cat' in spam and 'cat' in spam.values()?"
   ]
  },
  {
   "cell_type": "markdown",
   "id": "b839fa3d",
   "metadata": {},
   "source": [
    "'cat' in spam expression checks whether 'cat' key is present or not inside the dictionary. \n",
    "'cat' in spam.values() expression checks whether 'cat' value is present in any of its keys or not."
   ]
  },
  {
   "cell_type": "markdown",
   "id": "3408e757",
   "metadata": {},
   "source": [
    "# 7. What is a shortcut for the following code?\n",
    "if 'color' not in spam:\n",
    "spam['color'] = 'black'"
   ]
  },
  {
   "cell_type": "code",
   "execution_count": 3,
   "id": "7cd1559a",
   "metadata": {},
   "outputs": [
    {
     "name": "stdout",
     "output_type": "stream",
     "text": [
      "{'size': 10, 'color': 'black'}\n"
     ]
    }
   ],
   "source": [
    "spam={'size':10}\n",
    "spam.setdefault('color','black')\n",
    "print(spam)"
   ]
  },
  {
   "cell_type": "markdown",
   "id": "976473f3",
   "metadata": {},
   "source": [
    "# 8. How do you \"pretty print\" dictionary values using which module and function?"
   ]
  },
  {
   "cell_type": "markdown",
   "id": "b3ac272e",
   "metadata": {},
   "source": [
    "By importing pprint module and using its function pprint.pprint()."
   ]
  },
  {
   "cell_type": "code",
   "execution_count": null,
   "id": "5fde524d",
   "metadata": {},
   "outputs": [],
   "source": []
  }
 ],
 "metadata": {
  "kernelspec": {
   "display_name": "Python 3 (ipykernel)",
   "language": "python",
   "name": "python3"
  },
  "language_info": {
   "codemirror_mode": {
    "name": "ipython",
    "version": 3
   },
   "file_extension": ".py",
   "mimetype": "text/x-python",
   "name": "python",
   "nbconvert_exporter": "python",
   "pygments_lexer": "ipython3",
   "version": "3.9.7"
  }
 },
 "nbformat": 4,
 "nbformat_minor": 5
}
