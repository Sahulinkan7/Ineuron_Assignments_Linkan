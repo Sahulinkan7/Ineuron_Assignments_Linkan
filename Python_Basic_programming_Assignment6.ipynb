{
 "cells": [
  {
   "cell_type": "markdown",
   "id": "d460f16b",
   "metadata": {},
   "source": [
    "# 1.Write a Python Program to Display Fibonacci Sequence Using Recursion?"
   ]
  },
  {
   "cell_type": "code",
   "execution_count": 1,
   "id": "e61c70cd",
   "metadata": {},
   "outputs": [
    {
     "name": "stdout",
     "output_type": "stream",
     "text": [
      "Enter term : 10\n",
      "Fibonacci series is : \n",
      "0 1 1 2 3 5 8 13 21 34 "
     ]
    }
   ],
   "source": [
    "n=int(input('Enter term : '))\n",
    "def fib_rec(n):\n",
    "    if n<=1:\n",
    "        return n\n",
    "    else:\n",
    "        return fib_rec(n-1)+fib_rec(n-2)\n",
    "if n<=0:\n",
    "    print('Enter a positive number please ! ')\n",
    "else:\n",
    "    print('Fibonacci series is : ')\n",
    "    for i in range(n):\n",
    "        print(fib_rec(i),end=' ')"
   ]
  },
  {
   "cell_type": "markdown",
   "id": "948b7ae0",
   "metadata": {},
   "source": [
    "# 2.Write a Python Program to Find Factorial of Number Using Recursion?"
   ]
  },
  {
   "cell_type": "code",
   "execution_count": 2,
   "id": "ec86521d",
   "metadata": {},
   "outputs": [
    {
     "name": "stdout",
     "output_type": "stream",
     "text": [
      "Enter number : 5\n",
      "Factorial of number 5 is 120\n"
     ]
    }
   ],
   "source": [
    "n=int(input('Enter number : '))\n",
    "def factorial(n):\n",
    "    if n==0:\n",
    "        return 1\n",
    "    else:\n",
    "        return n*factorial(n-1)\n",
    "res=factorial(n)\n",
    "print(f\"Factorial of number {n} is {res}\")\n"
   ]
  },
  {
   "cell_type": "markdown",
   "id": "904e2ad1",
   "metadata": {},
   "source": [
    "# 3.Write a Python Program to calculate your Body Mass Index?"
   ]
  },
  {
   "cell_type": "code",
   "execution_count": 3,
   "id": "e277f337",
   "metadata": {},
   "outputs": [
    {
     "name": "stdout",
     "output_type": "stream",
     "text": [
      "Enter height in meter : 1.69\n",
      "Enter weight in KG : 69.6\n",
      "Your Body Mass Index is :  24.37\n"
     ]
    }
   ],
   "source": [
    "h=float(input('Enter height in meter : '))\n",
    "w=float(input('Enter weight in KG : '))\n",
    "\n",
    "bmi=w/(h**2)\n",
    "\n",
    "print('Your Body Mass Index is : ', round(bmi,2))"
   ]
  },
  {
   "cell_type": "markdown",
   "id": "7768bf1a",
   "metadata": {},
   "source": [
    "# 4.Write a Python Program to calculate the natural logarithm of any number?"
   ]
  },
  {
   "cell_type": "code",
   "execution_count": 4,
   "id": "60d0376f",
   "metadata": {},
   "outputs": [
    {
     "name": "stdout",
     "output_type": "stream",
     "text": [
      "Enter a number : 10\n",
      "Log value of 10 is 2.302585092994046\n"
     ]
    }
   ],
   "source": [
    "import math\n",
    "number=int(input('Enter a number : '))\n",
    "log_value=math.log(number)\n",
    "print(f'Log value of {number} is {log_value}')"
   ]
  },
  {
   "cell_type": "markdown",
   "id": "bb9e65e4",
   "metadata": {},
   "source": [
    "# 5.Write a Python Program for cube sum of first n natural numbers?"
   ]
  },
  {
   "cell_type": "code",
   "execution_count": 5,
   "id": "ff6c218d",
   "metadata": {},
   "outputs": [
    {
     "name": "stdout",
     "output_type": "stream",
     "text": [
      "Enter the value of n : 7\n",
      "cube sum of first 7 natural numbers is 784\n"
     ]
    }
   ],
   "source": [
    "n=int(input('Enter the value of n : '))\n",
    "sum=0\n",
    "for i in range(1,n+1):\n",
    "    sum=sum+i*i*i\n",
    "print(f'cube sum of first {n} natural numbers is {sum}')"
   ]
  },
  {
   "cell_type": "code",
   "execution_count": null,
   "id": "af45e58f",
   "metadata": {},
   "outputs": [],
   "source": []
  }
 ],
 "metadata": {
  "kernelspec": {
   "display_name": "Python 3 (ipykernel)",
   "language": "python",
   "name": "python3"
  },
  "language_info": {
   "codemirror_mode": {
    "name": "ipython",
    "version": 3
   },
   "file_extension": ".py",
   "mimetype": "text/x-python",
   "name": "python",
   "nbconvert_exporter": "python",
   "pygments_lexer": "ipython3",
   "version": "3.9.7"
  }
 },
 "nbformat": 4,
 "nbformat_minor": 5
}
