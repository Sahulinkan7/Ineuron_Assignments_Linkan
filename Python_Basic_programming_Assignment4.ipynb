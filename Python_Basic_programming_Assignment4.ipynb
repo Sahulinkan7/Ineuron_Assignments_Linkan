{
 "cells": [
  {
   "cell_type": "markdown",
   "id": "bf69a520",
   "metadata": {},
   "source": [
    "# 1.Write a Python Program to Find the Factorial of a Number?"
   ]
  },
  {
   "cell_type": "code",
   "execution_count": 1,
   "id": "98a7499e",
   "metadata": {},
   "outputs": [
    {
     "name": "stdout",
     "output_type": "stream",
     "text": [
      "Enter a number : 5\n",
      "factorial is 120\n"
     ]
    }
   ],
   "source": [
    "num=int(input(\"Enter a number : \"))\n",
    "fact=1\n",
    "if num==0:\n",
    "    print(f'factorial is {fact}')\n",
    "elif num<0:\n",
    "    print(f\"factorial can not be calculated for value less than 0. \")\n",
    "else:\n",
    "    for i in range(1,num+1):\n",
    "        fact=fact*i\n",
    "    print(f'factorial is {fact}')\n",
    "    "
   ]
  },
  {
   "cell_type": "markdown",
   "id": "a7b55758",
   "metadata": {},
   "source": [
    "# 2.Write a Python Program to Display the multiplication Table?"
   ]
  },
  {
   "cell_type": "code",
   "execution_count": 2,
   "id": "bee7112a",
   "metadata": {},
   "outputs": [
    {
     "name": "stdout",
     "output_type": "stream",
     "text": [
      "Enter the number to find the Multiplication table : 7\n",
      "7 x 1 = 7\n",
      "7 x 2 = 14\n",
      "7 x 3 = 21\n",
      "7 x 4 = 28\n",
      "7 x 5 = 35\n",
      "7 x 6 = 42\n",
      "7 x 7 = 49\n",
      "7 x 8 = 56\n",
      "7 x 9 = 63\n",
      "7 x 10 = 70\n"
     ]
    }
   ],
   "source": [
    "num=int(input(\"Enter the number to find the Multiplication table : \"))\n",
    "for i in range(1,11):\n",
    "    print(f'{num} x {i} = {num*i}')\n",
    "    "
   ]
  },
  {
   "cell_type": "markdown",
   "id": "e6e8c1da",
   "metadata": {},
   "source": [
    "# 3.Write a Python Program to Print the Fibonacci sequence?"
   ]
  },
  {
   "cell_type": "code",
   "execution_count": 3,
   "id": "21b632c2",
   "metadata": {},
   "outputs": [
    {
     "name": "stdout",
     "output_type": "stream",
     "text": [
      "Enter number of terms : 12\n",
      "Fibonacci series is : \n",
      "0 1 1 2 3 5 8 13 21 34 55 89 "
     ]
    }
   ],
   "source": [
    "term=int(input(\"Enter number of terms : \"))\n",
    "a=0\n",
    "b=1\n",
    "count=0\n",
    "if term<=0:\n",
    "    print('Please enter a positive number ')\n",
    "elif term==1:\n",
    "    print(a)\n",
    "else:\n",
    "    print('Fibonacci series is : ')\n",
    "    while count<term:\n",
    "        print(a,end=\" \")\n",
    "        c=a+b\n",
    "        a=b\n",
    "        b=c\n",
    "        count+=1\n"
   ]
  },
  {
   "cell_type": "markdown",
   "id": "a6135c0c",
   "metadata": {},
   "source": [
    "# 4.Write a Python Program to Check Armstrong Number?"
   ]
  },
  {
   "cell_type": "code",
   "execution_count": 4,
   "id": "4a8f75e0",
   "metadata": {},
   "outputs": [
    {
     "name": "stdout",
     "output_type": "stream",
     "text": [
      "Enter a number : 153\n",
      "153 is an Armstrong Number .\n"
     ]
    }
   ],
   "source": [
    "number=int(input('Enter a number : '))\n",
    "num_length=len(str(number))\n",
    "\n",
    "sum=0\n",
    "temp=number\n",
    "while temp>0:\n",
    "    digit=temp%10\n",
    "    sum+=digit**num_length\n",
    "    temp//=10\n",
    "\n",
    "if number==sum:\n",
    "    print(f\"{number} is an Armstrong Number .\")\n",
    "else:\n",
    "    print(f\"{number} is not an Armstrong Number . \")"
   ]
  },
  {
   "cell_type": "markdown",
   "id": "d0ff09d3",
   "metadata": {},
   "source": [
    "# 5.Write a Python Program to Find Armstrong Number in an Interval?"
   ]
  },
  {
   "cell_type": "code",
   "execution_count": 5,
   "id": "bef31a57",
   "metadata": {},
   "outputs": [
    {
     "name": "stdout",
     "output_type": "stream",
     "text": [
      "Enter lower range : 100\n",
      "Enter higher rnge : 10000\n",
      "The list of Armstrong numbers in the interval is  [153, 370, 371, 407, 1634, 8208, 9474]\n"
     ]
    }
   ],
   "source": [
    "lower_range=int(input(\"Enter lower range : \"))\n",
    "higher_range=int(input(\"Enter higher rnge : \"))\n",
    "\n",
    "\n",
    "arm_list=[]\n",
    "\n",
    "for i in range(lower_range,higher_range+1):\n",
    "    num_length=len(str(i))\n",
    "    temp=i\n",
    "    sum=0\n",
    "    while temp>0:\n",
    "        digit=temp%10\n",
    "        sum+=digit**num_length\n",
    "        temp//=10\n",
    "    if sum==i:\n",
    "        arm_list.append(i)\n",
    "\n",
    "print(f'The list of Armstrong numbers in the interval is ',arm_list)\n",
    "    "
   ]
  },
  {
   "cell_type": "markdown",
   "id": "ca85eb23",
   "metadata": {},
   "source": [
    "# 6.Write a Python Program to Find the Sum of Natural Numbers?"
   ]
  },
  {
   "cell_type": "code",
   "execution_count": 6,
   "id": "608d5435",
   "metadata": {},
   "outputs": [
    {
     "name": "stdout",
     "output_type": "stream",
     "text": [
      "Enter a natural number : 8\n",
      "The sum of natural numbers is 36\n"
     ]
    }
   ],
   "source": [
    "number=int(input('Enter a natural number : '))\n",
    "sum=0\n",
    "if number<0:\n",
    "    print('Please enter a natural number which is greater than 0.')\n",
    "else:\n",
    "    for i in range(1,number+1):\n",
    "        sum+=i\n",
    "    \n",
    "print(f'The sum of natural numbers is {sum}')\n"
   ]
  },
  {
   "cell_type": "code",
   "execution_count": null,
   "id": "6b724568",
   "metadata": {},
   "outputs": [],
   "source": []
  }
 ],
 "metadata": {
  "kernelspec": {
   "display_name": "Python 3 (ipykernel)",
   "language": "python",
   "name": "python3"
  },
  "language_info": {
   "codemirror_mode": {
    "name": "ipython",
    "version": 3
   },
   "file_extension": ".py",
   "mimetype": "text/x-python",
   "name": "python",
   "nbconvert_exporter": "python",
   "pygments_lexer": "ipython3",
   "version": "3.9.7"
  }
 },
 "nbformat": 4,
 "nbformat_minor": 5
}
