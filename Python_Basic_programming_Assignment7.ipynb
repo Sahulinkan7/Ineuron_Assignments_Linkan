{
 "cells": [
  {
   "cell_type": "markdown",
   "id": "28e11b4a",
   "metadata": {},
   "source": [
    "# Python Programming Basic Assignment 7 "
   ]
  },
  {
   "cell_type": "markdown",
   "id": "3ac68f8d",
   "metadata": {},
   "source": [
    "# 1.Write a Python Program to find sum of array?"
   ]
  },
  {
   "cell_type": "code",
   "execution_count": 1,
   "id": "e662a0ff",
   "metadata": {},
   "outputs": [
    {
     "name": "stdout",
     "output_type": "stream",
     "text": [
      "Enter the array size : 5\n",
      "Enter array element : 65\n",
      "Enter array element : 32\n",
      "Enter array element : 48\n",
      "Enter array element : 75\n",
      "Enter array element : 99\n",
      "Sum of array elements is : 319 \n"
     ]
    }
   ],
   "source": [
    "def array_sum(x):\n",
    "    sum=0\n",
    "    for i in range(len(x)):\n",
    "        sum+=x[i]\n",
    "    return sum\n",
    "\n",
    "lst=[]\n",
    "n=int(input('Enter the array size : '))\n",
    "for i in range(0,n):\n",
    "    ele=int(input('Enter array element : '))\n",
    "    lst.append(ele)\n",
    "res=array_sum(lst)\n",
    "print(f'Sum of array elements is : {res} ')"
   ]
  },
  {
   "cell_type": "markdown",
   "id": "de9b5e7d",
   "metadata": {},
   "source": [
    "# 2.Write a Python Program to find largest element in an array?"
   ]
  },
  {
   "cell_type": "code",
   "execution_count": 2,
   "id": "c61a21f5",
   "metadata": {},
   "outputs": [
    {
     "name": "stdout",
     "output_type": "stream",
     "text": [
      "Enter the array size : 5\n",
      "Enter array element : 62\n",
      "Enter array element : 53\n",
      "Enter array element : 24\n",
      "Enter array element : 87\n",
      "Enter array element : 99\n",
      "Sum of array elements is : 99 \n"
     ]
    }
   ],
   "source": [
    "def largest(x):\n",
    "    largest=x[0]\n",
    "    for i in range(len(x)):\n",
    "        if x[i]>=largest:\n",
    "            largest=x[i]\n",
    "    return largest\n",
    "\n",
    "lst=[]\n",
    "n=int(input('Enter the array size : '))\n",
    "for i in range(0,n):\n",
    "    ele=int(input('Enter array element : '))\n",
    "    lst.append(ele)\n",
    "largest=largest(lst)\n",
    "print(f'Sum of array elements is : {largest} ')"
   ]
  },
  {
   "cell_type": "markdown",
   "id": "c32f60f2",
   "metadata": {},
   "source": [
    "# 3.Write a Python Program for array rotation?"
   ]
  },
  {
   "cell_type": "code",
   "execution_count": 3,
   "id": "be08a502",
   "metadata": {},
   "outputs": [
    {
     "name": "stdout",
     "output_type": "stream",
     "text": [
      "Enter the array size : 5\n",
      "Enter array element : 54\n",
      "Enter array element : 69\n",
      "Enter array element : 87\n",
      "Enter array element : 52\n",
      "Enter array element : 21\n",
      "[54, 69, 87, 52, 21]\n",
      "Rotated array is  : [21, 52, 87, 69, 54] \n"
     ]
    }
   ],
   "source": [
    "def array_rotation(x):\n",
    "    x=x[::-1]\n",
    "    return x\n",
    "\n",
    "lst=[]\n",
    "n=int(input('Enter the array size : '))\n",
    "for i in range(0,n):\n",
    "    ele=int(input('Enter array element : '))\n",
    "    lst.append(ele)\n",
    "print(lst)\n",
    "rot_array=array_rotation(lst)\n",
    "print(f'Rotated array is  : {rot_array} ')"
   ]
  },
  {
   "cell_type": "markdown",
   "id": "7459fd2d",
   "metadata": {},
   "source": [
    "# 4.Write a Python Program to Split the array and add the first part to the end?"
   ]
  },
  {
   "cell_type": "code",
   "execution_count": 4,
   "id": "aae69d12",
   "metadata": {},
   "outputs": [
    {
     "name": "stdout",
     "output_type": "stream",
     "text": [
      "Enter the array size : 5\n",
      "Enter array element : 36\n",
      "Enter array element : 32\n",
      "Enter array element : 98\n",
      "Enter array element : 54\n",
      "Enter array element : 33\n",
      "The list is [36, 32, 98, 54, 33]\n",
      "\n",
      "Enter the no of elements to be rotated to the right from left : 2\n",
      "[36, 32]\n",
      "Rotated array from left side by 2 term is [98, 54, 33, 36, 32]\n"
     ]
    }
   ],
   "source": [
    "def array_left_rotate(arr,s):\n",
    "    temp=[]\n",
    "    length=len(arr)\n",
    "    i=0\n",
    "    while i<s:\n",
    "        temp.append(arr[i])\n",
    "        i+=1\n",
    "    print(temp)\n",
    "    i=0\n",
    "    while s<length:\n",
    "        arr[i]=arr[s]\n",
    "        i+=1\n",
    "        s+=1\n",
    "    arr[:]=arr[:i]+temp\n",
    "    return arr\n",
    "\n",
    "lst=[]\n",
    "length=int(input('Enter the array size : '))\n",
    "for i in range(0,length):\n",
    "    ele=int(input('Enter array element : '))\n",
    "    lst.append(ele)\n",
    "\n",
    "print(f'The list is {lst}\\n')\n",
    "n=int(input('Enter the no of elements to be rotated to the right from left : '))\n",
    "\n",
    "res=array_left_rotate(lst,n)\n",
    "print(f'Rotated array from left side by {n} term is {res}')\n",
    "        \n",
    "    "
   ]
  },
  {
   "cell_type": "markdown",
   "id": "113da79f",
   "metadata": {},
   "source": [
    "# 5.Write a Python Program to check if given array is Monotonic?"
   ]
  },
  {
   "cell_type": "code",
   "execution_count": 5,
   "id": "7a28fe07",
   "metadata": {},
   "outputs": [
    {
     "name": "stdout",
     "output_type": "stream",
     "text": [
      "Enter the array size : 5\n",
      "Enter array element : 2\n",
      "Enter array element : 3\n",
      "Enter array element : 6\n",
      "Enter array element : 9\n",
      "Enter array element : 12\n",
      "list [2, 3, 6, 9, 12] is monotone.\n"
     ]
    }
   ],
   "source": [
    "def ismonotone(x):\n",
    "    length=len(x)\n",
    "    if length==1:\n",
    "        return True\n",
    "    else:\n",
    "        if all(x[i]>=x[i+1] for i in range(length-1)) or all(x[i]<=x[i+1] for i in range(length-1)):\n",
    "            return True\n",
    "        else:\n",
    "            return False\n",
    "        \n",
    "\n",
    "lst=[]\n",
    "n=int(input('Enter the array size : '))\n",
    "for i in range(0,n):\n",
    "    ele=int(input('Enter array element : '))\n",
    "    lst.append(ele)\n",
    "is_monotone=ismonotone(lst)\n",
    "if is_monotone:\n",
    "    print(f\"list {lst} is monotone.\")\n",
    "else:\n",
    "    print(f\"list {lst} is not monotone.\")"
   ]
  },
  {
   "cell_type": "code",
   "execution_count": null,
   "id": "d3ac830d",
   "metadata": {},
   "outputs": [],
   "source": []
  }
 ],
 "metadata": {
  "kernelspec": {
   "display_name": "Python 3 (ipykernel)",
   "language": "python",
   "name": "python3"
  },
  "language_info": {
   "codemirror_mode": {
    "name": "ipython",
    "version": 3
   },
   "file_extension": ".py",
   "mimetype": "text/x-python",
   "name": "python",
   "nbconvert_exporter": "python",
   "pygments_lexer": "ipython3",
   "version": "3.9.7"
  }
 },
 "nbformat": 4,
 "nbformat_minor": 5
}
