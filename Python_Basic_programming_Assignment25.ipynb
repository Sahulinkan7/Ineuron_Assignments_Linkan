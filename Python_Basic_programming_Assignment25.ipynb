{
 "cells": [
  {
   "cell_type": "markdown",
   "id": "bd5a2659",
   "metadata": {},
   "source": [
    "# Basic_Programming_Assignment_25"
   ]
  },
  {
   "cell_type": "markdown",
   "id": "427756de",
   "metadata": {},
   "source": [
    "# Question1\n",
    "\n",
    "# Create a function that takes three integer arguments (a, b, c) and returns the amount of integers which are of equal value.\n",
    "Examples\n",
    "equal(3, 4, 3) ➞ 2\n",
    "\n",
    "equal(1, 1, 1) ➞ 3\n",
    "\n",
    "equal(3, 4, 1) ➞ 0 \n",
    "Notes\n",
    "Your function must return 0, 2 or 3."
   ]
  },
  {
   "cell_type": "code",
   "execution_count": 1,
   "id": "fd7ed91c",
   "metadata": {},
   "outputs": [
    {
     "name": "stdout",
     "output_type": "stream",
     "text": [
      "2\n"
     ]
    }
   ],
   "source": [
    "def equals(a,b,c):\n",
    "    count=0\n",
    "    if a==b and a==c:\n",
    "        count=count+3\n",
    "    elif a==b or a==c or b==c or b==a or c==a or c==b:\n",
    "        count=count+2\n",
    "    else:\n",
    "        count=0\n",
    "    return count\n",
    "\n",
    "res=equals(0,1,1)\n",
    "print(res)"
   ]
  },
  {
   "cell_type": "markdown",
   "id": "24c95d13",
   "metadata": {},
   "source": [
    "# Question2\n",
    "\n",
    "# Write a function that converts a dictionary into a list of keys-values tuples.\n",
    "Examples\n",
    "dict_to_list({\n",
    "  \"D\": 1,\n",
    "  \"B\": 2,\n",
    "  \"C\": 3\n",
    "}) ➞ [(\"B\", 2), (\"C\", 3), (\"D\", 1)]\n",
    "\n",
    "dict_to_list({\n",
    "  \"likes\": 2,\n",
    "  \"dislikes\": 3,\n",
    "  \"followers\": 10\n",
    "}) ➞ [(\"dislikes\", 3), (\"followers\", 10), (\"likes\", 2)]\n",
    "Notes\n",
    "Return the elements in the list in alphabetical order."
   ]
  },
  {
   "cell_type": "code",
   "execution_count": 2,
   "id": "f11a0467",
   "metadata": {},
   "outputs": [
    {
     "name": "stdout",
     "output_type": "stream",
     "text": [
      "[('likes', 2), ('dislikes', 3), ('followers', 10)]\n"
     ]
    }
   ],
   "source": [
    "def dict_to_list(mydict):\n",
    "    l=[]\n",
    "    for key,val in mydict.items():\n",
    "        l.append((key,val))\n",
    "    return l\n",
    "\n",
    "res=dict_to_list({\"likes\": 2,\n",
    "  \"dislikes\": 3,\n",
    "  \"followers\": 10})\n",
    "print(res)"
   ]
  },
  {
   "cell_type": "markdown",
   "id": "41e8621a",
   "metadata": {},
   "source": [
    "# Question3\n",
    "Write a function that creates a dictionary with each (key, value) pair being the (lower case, upper case) versions of a letter, respectively.\n",
    "Examples\n",
    "mapping([\"p\", \"s\"]) ➞ { \"p\": \"P\", \"s\": \"S\" }\n",
    "\n",
    "mapping([\"a\", \"b\", \"c\"]) ➞ { \"a\": \"A\", \"b\": \"B\", \"c\": \"C\" }\n",
    "\n",
    "mapping([\"a\", \"v\", \"y\", \"z\"]) ➞ { \"a\": \"A\", \"v\": \"V\", \"y\": \"Y\", \"z\": \"Z\" }\n",
    "Notes\n",
    "All of the letters in the input list will always be lowercase.\n"
   ]
  },
  {
   "cell_type": "code",
   "execution_count": 3,
   "id": "42b983b5",
   "metadata": {},
   "outputs": [
    {
     "name": "stdout",
     "output_type": "stream",
     "text": [
      "{'a': 'A', 'b': 'B', 'c': 'C', 'd': 'D'}\n"
     ]
    }
   ],
   "source": [
    "def mapping(lst):\n",
    "    newdict={}\n",
    "    for i in lst:\n",
    "        newdict[i]=i.upper()\n",
    "    return newdict\n",
    "\n",
    "result=mapping(['a','b','c','d'])\n",
    "print(result)"
   ]
  },
  {
   "cell_type": "markdown",
   "id": "9ec97e0e",
   "metadata": {},
   "source": [
    "# Question4\n",
    "Write a function, that replaces all vowels in a string with a specified vowel.\n",
    "Examples\n",
    "vow_replace(\"apples and bananas\", \"u\") ➞ \"upplus und bununus\"\n",
    "\n",
    "vow_replace(\"cheese casserole\", \"o\") ➞ \"chooso cossorolo\"\n",
    "\n",
    "vow_replace(\"stuffed jalapeno poppers\", \"e\") ➞ \"steffed jelepene peppers\"\n",
    "Notes\n",
    "All words will be lowercase. Y is not considered a vowel."
   ]
  },
  {
   "cell_type": "code",
   "execution_count": 4,
   "id": "b448c046",
   "metadata": {},
   "outputs": [
    {
     "name": "stdout",
     "output_type": "stream",
     "text": [
      "chooso cossorolo\n"
     ]
    }
   ],
   "source": [
    "def vow_replace(s1,v):\n",
    "    l=list(s1)\n",
    "    for i in range(len(l)):\n",
    "        if l[i] in 'aeiou':\n",
    "            l[i]=v\n",
    "    l=''.join(l)\n",
    "    return l\n",
    "res=vow_replace(\"cheese casserole\", \"o\") \n",
    "print(res)"
   ]
  },
  {
   "cell_type": "markdown",
   "id": "9dcd835a",
   "metadata": {},
   "source": [
    "# Question5\n",
    "Create a function that takes a string as input and capitalizes a letter if its ASCII code is even and returns its lower case version if its ASCII code is odd.\n",
    "Examples\n",
    "ascii_capitalize(\"to be or not to be!\") ➞ \"To Be oR NoT To Be!\"\n",
    "\n",
    "ascii_capitalize(\"THE LITTLE MERMAID\") ➞ \"THe LiTTLe meRmaiD\"\n",
    "\n",
    "ascii_capitalize(\"Oh what a beautiful morning.\") ➞ \"oH wHaT a BeauTiFuL moRNiNg.\""
   ]
  },
  {
   "cell_type": "code",
   "execution_count": 5,
   "id": "406f3de0",
   "metadata": {},
   "outputs": [
    {
     "name": "stdout",
     "output_type": "stream",
     "text": [
      "To Be oR NoT To Be!\n"
     ]
    }
   ],
   "source": [
    "def ascii_capitalize(s):\n",
    "    l=list(s)\n",
    "    for i in range(len(l)):\n",
    "        if ord(l[i])%2==0:\n",
    "            l[i]=l[i].capitalize()\n",
    "    l=''.join(l)\n",
    "    return l\n",
    "res=ascii_capitalize(\"to be or not to be!\")\n",
    "print(res)"
   ]
  },
  {
   "cell_type": "code",
   "execution_count": null,
   "id": "000ad628",
   "metadata": {},
   "outputs": [],
   "source": []
  }
 ],
 "metadata": {
  "kernelspec": {
   "display_name": "Python 3 (ipykernel)",
   "language": "python",
   "name": "python3"
  },
  "language_info": {
   "codemirror_mode": {
    "name": "ipython",
    "version": 3
   },
   "file_extension": ".py",
   "mimetype": "text/x-python",
   "name": "python",
   "nbconvert_exporter": "python",
   "pygments_lexer": "ipython3",
   "version": "3.9.7"
  }
 },
 "nbformat": 4,
 "nbformat_minor": 5
}
