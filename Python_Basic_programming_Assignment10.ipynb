{
 "cells": [
  {
   "cell_type": "markdown",
   "id": "34d9a96e",
   "metadata": {},
   "source": [
    "# Python Basic Programming Assignment 10"
   ]
  },
  {
   "cell_type": "markdown",
   "id": "7efaa52c",
   "metadata": {},
   "source": [
    "# 1.Write a Python program to find sum of elements in list?"
   ]
  },
  {
   "cell_type": "code",
   "execution_count": 1,
   "id": "f2b25b32",
   "metadata": {},
   "outputs": [
    {
     "name": "stdout",
     "output_type": "stream",
     "text": [
      "Enter the list size you want : 5\n",
      "Enter list element : 1\n",
      "Enter list element : 2\n",
      "Enter list element : 3\n",
      "Enter list element : 4\n",
      "Enter list element : 5\n",
      "Sum of list elements is : 15\n"
     ]
    }
   ],
   "source": [
    "def list_sum(lst):\n",
    "    sum=0\n",
    "    for i in range(len(lst)):\n",
    "        sum+=lst[i]\n",
    "    return sum\n",
    "\n",
    "lst=[]\n",
    "sz=int(input('Enter the list size you want : '))\n",
    "for i in range(sz):\n",
    "    el=int(input('Enter list element : '))\n",
    "    lst.append(el)\n",
    "\n",
    "result=list_sum(lst)\n",
    "print(f'Sum of list elements is : {result}')"
   ]
  },
  {
   "cell_type": "markdown",
   "id": "0c2040c1",
   "metadata": {},
   "source": [
    "# 2.Write a Python program to  Multiply all numbers in the list?"
   ]
  },
  {
   "cell_type": "code",
   "execution_count": 2,
   "id": "79557b74",
   "metadata": {},
   "outputs": [
    {
     "name": "stdout",
     "output_type": "stream",
     "text": [
      "Enter the list size you want : 5\n",
      "Enter list element : 1\n",
      "Enter list element : 2\n",
      "Enter list element : 3\n",
      "Enter list element : 4\n",
      "Enter list element : 5\n",
      "Multiplications of list elements are : 120\n"
     ]
    }
   ],
   "source": [
    "def list_mul(lst):\n",
    "    mul=1\n",
    "    if len(lst)<=0:\n",
    "        return 0\n",
    "    else:\n",
    "        for i in range(len(lst)):\n",
    "            mul*=lst[i]\n",
    "        return mul\n",
    "\n",
    "lst=[]\n",
    "sz=int(input('Enter the list size you want : '))\n",
    "for i in range(sz):\n",
    "    el=int(input('Enter list element : '))\n",
    "    lst.append(el)\n",
    "\n",
    "result=list_mul(lst)\n",
    "print(f'Multiplications of list elements are : {result}')"
   ]
  },
  {
   "cell_type": "markdown",
   "id": "c1a61f5c",
   "metadata": {},
   "source": [
    "# 3.Write a Python program to find smallest number in a list?"
   ]
  },
  {
   "cell_type": "code",
   "execution_count": 3,
   "id": "e7f4add4",
   "metadata": {},
   "outputs": [
    {
     "name": "stdout",
     "output_type": "stream",
     "text": [
      "Enter the list size you want : 5\n",
      "Enter list element : 33\n",
      "Enter list element : 26\n",
      "Enter list element : 45\n",
      "Enter list element : 78\n",
      "Enter list element : 84\n",
      "Smallest element of list is : 26\n"
     ]
    }
   ],
   "source": [
    "def smallest_in_list(lst):\n",
    "    smallest=lst[0]\n",
    "    for i in range(len(lst)):\n",
    "        if lst[i]<smallest:\n",
    "            smallest=lst[i]\n",
    "    return smallest\n",
    "\n",
    "lst=[]\n",
    "sz=int(input('Enter the list size you want : '))\n",
    "for i in range(sz):\n",
    "    el=int(input('Enter list element : '))\n",
    "    lst.append(el)\n",
    "\n",
    "result=smallest_in_list(lst)\n",
    "print(f'Smallest element of list is : {result}')\n",
    "        "
   ]
  },
  {
   "cell_type": "markdown",
   "id": "02cbf742",
   "metadata": {},
   "source": [
    "# 4.Write a Python program to find largest number in a list?"
   ]
  },
  {
   "cell_type": "code",
   "execution_count": 4,
   "id": "f8548f9d",
   "metadata": {},
   "outputs": [
    {
     "name": "stdout",
     "output_type": "stream",
     "text": [
      "Enter the list size you want : 5\n",
      "Enter list element : 45\n",
      "Enter list element : 84\n",
      "Enter list element : 99\n",
      "Enter list element : 75\n",
      "Enter list element : 21\n",
      "Largest element of list is : 99\n"
     ]
    }
   ],
   "source": [
    "def largest_in_list(lst):\n",
    "    largest=lst[0]\n",
    "    for i in range(len(lst)):\n",
    "        if lst[i]>largest:\n",
    "            largest=lst[i]\n",
    "    return largest\n",
    "\n",
    "lst=[]\n",
    "sz=int(input('Enter the list size you want : '))\n",
    "for i in range(sz):\n",
    "    el=int(input('Enter list element : '))\n",
    "    lst.append(el)\n",
    "\n",
    "result=largest_in_list(lst)\n",
    "print(f'Largest element of list is : {result}')"
   ]
  },
  {
   "cell_type": "markdown",
   "id": "2be57bdb",
   "metadata": {},
   "source": [
    "# 5.Write a Python program to find second largest number in a list?"
   ]
  },
  {
   "cell_type": "code",
   "execution_count": 5,
   "id": "3e37e6ce",
   "metadata": {},
   "outputs": [
    {
     "name": "stdout",
     "output_type": "stream",
     "text": [
      "Enter the list size you want : 5\n",
      "Enter list element : 22\n",
      "Enter list element : 14\n",
      "Enter list element : 7\n",
      "Enter list element : 95\n",
      "Enter list element : 62\n",
      "Second largest element of the list is : 62\n"
     ]
    }
   ],
   "source": [
    "def second_largest(lst):\n",
    "    sorted_list=sorted(set(lst))\n",
    "    second_largest=sorted_list[-2]\n",
    "    return second_largest\n",
    "\n",
    "lst=[]\n",
    "sz=int(input('Enter the list size you want : '))\n",
    "for i in range(sz):\n",
    "    el=int(input('Enter list element : '))\n",
    "    lst.append(el)\n",
    "res=second_largest(lst)\n",
    "print(f'Second largest element of the list is : {res}')"
   ]
  },
  {
   "cell_type": "markdown",
   "id": "f4704566",
   "metadata": {},
   "source": [
    "# 6.Write a Python program to find N largest elements from a list?"
   ]
  },
  {
   "cell_type": "code",
   "execution_count": 6,
   "id": "6c7ef6ad",
   "metadata": {},
   "outputs": [
    {
     "name": "stdout",
     "output_type": "stream",
     "text": [
      "Enter the list size you want : 6\n",
      "Enter list element : 22\n",
      "Enter list element : 21\n",
      "Enter list element : 14\n",
      "Enter list element : 5\n",
      "Enter list element : 6\n",
      "Enter list element : 21\n",
      "Enter nth largest to be found : 3\n",
      "Second largest element of the list is : 14\n"
     ]
    }
   ],
   "source": [
    "def nth_largest(lst,n):\n",
    "    sorted_list=sorted(set(lst))\n",
    "    nth_largest=sorted_list[-n]\n",
    "    return nth_largest\n",
    "\n",
    "\n",
    "lst=[]\n",
    "sz=int(input('Enter the list size you want : '))\n",
    "for i in range(sz):\n",
    "    el=int(input('Enter list element : '))\n",
    "    lst.append(el)\n",
    "\n",
    "\n",
    "n=int(input('Enter nth largest to be found : '))\n",
    "if n>sz:\n",
    "    print('Your entered nth position is greater than the list size. ')\n",
    "else:\n",
    "    res=nth_largest(lst,n)\n",
    "    print(f'Second largest element of the list is : {res}')"
   ]
  },
  {
   "cell_type": "markdown",
   "id": "47e529f1",
   "metadata": {},
   "source": [
    "# 7.Write a Python program to print even numbers in a list?"
   ]
  },
  {
   "cell_type": "code",
   "execution_count": 7,
   "id": "bba8e338",
   "metadata": {},
   "outputs": [
    {
     "name": "stdout",
     "output_type": "stream",
     "text": [
      "Enter the list size you want : 5\n",
      "Enter list element : 11\n",
      "Enter list element : 41\n",
      "Enter list element : 22\n",
      "Enter list element : 18\n",
      "Enter list element : 92\n",
      "Even elements of the list are : \n",
      "22 18 92 "
     ]
    }
   ],
   "source": [
    "def print_even(lst):\n",
    "    for i in range(len(lst)):\n",
    "        if lst[i]%2==0:\n",
    "            print(lst[i],end=' ')\n",
    "lst=[]\n",
    "sz=int(input('Enter the list size you want : '))\n",
    "for i in range(sz):\n",
    "    el=int(input('Enter list element : '))\n",
    "    lst.append(el)\n",
    "\n",
    "print('Even elements of the list are : ')\n",
    "print_even(lst)\n"
   ]
  },
  {
   "cell_type": "markdown",
   "id": "44cebb4b",
   "metadata": {},
   "source": [
    "# 8.Write a Python program to print odd numbers in a List?"
   ]
  },
  {
   "cell_type": "code",
   "execution_count": 8,
   "id": "1dd09c35",
   "metadata": {},
   "outputs": [
    {
     "name": "stdout",
     "output_type": "stream",
     "text": [
      "Enter the list size you want : 5\n",
      "Enter list element : 22\n",
      "Enter list element : 36\n",
      "Enter list element : 54\n",
      "Enter list element : 78\n",
      "Enter list element : 99\n",
      "Odd elements of the list are : \n",
      "99 "
     ]
    }
   ],
   "source": [
    "def print_odd(lst):\n",
    "    for i in range(len(lst)):\n",
    "        if lst[i]%2!=0:\n",
    "            print(lst[i],end=' ')\n",
    "lst=[]\n",
    "sz=int(input('Enter the list size you want : '))\n",
    "for i in range(sz):\n",
    "    el=int(input('Enter list element : '))\n",
    "    lst.append(el)\n",
    "\n",
    "print('Odd elements of the list are : ')\n",
    "print_odd(lst)"
   ]
  },
  {
   "cell_type": "markdown",
   "id": "974abfc1",
   "metadata": {},
   "source": [
    "# 9.Write a Python program to Remove empty List from List?"
   ]
  },
  {
   "cell_type": "code",
   "execution_count": 9,
   "id": "5f252ee1",
   "metadata": {},
   "outputs": [
    {
     "name": "stdout",
     "output_type": "stream",
     "text": [
      "List after removing empty list is [45, 56, 6.6, [34, 45], 55, (67, 66), ['t', 'y'], 'v', [4, 5, 6, 7]]\n"
     ]
    }
   ],
   "source": [
    "def rem_empty(lst):\n",
    "    new_list=[]\n",
    "    for i in range(len(lst)):\n",
    "        if type(lst[i])==list:\n",
    "            if len(lst[i])!=0:\n",
    "                new_list.append(lst[i])\n",
    "        else:\n",
    "            new_list.append(lst[i])\n",
    "    return new_list\n",
    "\n",
    "res=rem_empty([[],45,[],56,6.6,[34,45],55,(67,66),[],['t','y'],'v',[],[],[4,5,6,7]])\n",
    "print(f'List after removing empty list is {res}')\n",
    "            "
   ]
  },
  {
   "cell_type": "markdown",
   "id": "f77bf0d9",
   "metadata": {},
   "source": [
    "# 10.Write a Python program to Cloning or Copying a list?"
   ]
  },
  {
   "cell_type": "code",
   "execution_count": 10,
   "id": "7415b810",
   "metadata": {},
   "outputs": [
    {
     "name": "stdout",
     "output_type": "stream",
     "text": [
      "Enter the list size you want : 5\n",
      "Enter list element : 66\n",
      "Enter list element : 58\n",
      "Enter list element : 97\n",
      "Enter list element : 48\n",
      "Enter list element : 52\n",
      "List is [66, 58, 97, 48, 52]\n",
      "Location of 1st list is 2323742340800\n",
      "Location of copied list is 2323742339328\n",
      "The new copied list is [66, 58, 97, 48, 52]\n"
     ]
    }
   ],
   "source": [
    "def clone_list(lst):\n",
    "    list_copy=lst[:]\n",
    "    return list_copy\n",
    "\n",
    "lst=[]\n",
    "sz=int(input('Enter the list size you want : '))\n",
    "for i in range(sz):\n",
    "    el=int(input('Enter list element : '))\n",
    "    lst.append(el)\n",
    "    \n",
    "print(f'List is {lst}')\n",
    "print(f'Location of 1st list is {id(lst)}')\n",
    "new_list=clone_list(lst)\n",
    "print(f'Location of copied list is {id(new_list)}')\n",
    "print(f'The new copied list is {new_list}')"
   ]
  },
  {
   "cell_type": "markdown",
   "id": "f81a618c",
   "metadata": {},
   "source": [
    "# 11.Write a Python program to Count occurrences of an element in a list?"
   ]
  },
  {
   "cell_type": "code",
   "execution_count": 12,
   "id": "84f47c06",
   "metadata": {},
   "outputs": [
    {
     "name": "stdout",
     "output_type": "stream",
     "text": [
      "Enter the list size you want : 5\n",
      "Enter list element : 22\n",
      "Enter list element : 21\n",
      "Enter list element : 21\n",
      "Enter list element : 69\n",
      "Enter list element : 54\n",
      "Enter the element to find its occurance : 21\n",
      "Occurance of the element 21 in the list is : 2\n"
     ]
    }
   ],
   "source": [
    "def occurance_count(lst,n):\n",
    "    count=0\n",
    "    for i in lst:\n",
    "        if i==n:\n",
    "            count+=1\n",
    "    return count\n",
    "\n",
    "lst=[]\n",
    "sz=int(input('Enter the list size you want : '))\n",
    "for i in range(sz):\n",
    "    el=int(input('Enter list element : '))\n",
    "    lst.append(el)\n",
    "\n",
    "num=int(input('Enter the element to find its occurance : '))\n",
    "result=occurance_count(lst,num)\n",
    "print(f'Occurance of the element {num} in the list is : {result}')"
   ]
  },
  {
   "cell_type": "code",
   "execution_count": null,
   "id": "7f47cf1a",
   "metadata": {},
   "outputs": [],
   "source": []
  }
 ],
 "metadata": {
  "kernelspec": {
   "display_name": "Python 3 (ipykernel)",
   "language": "python",
   "name": "python3"
  },
  "language_info": {
   "codemirror_mode": {
    "name": "ipython",
    "version": 3
   },
   "file_extension": ".py",
   "mimetype": "text/x-python",
   "name": "python",
   "nbconvert_exporter": "python",
   "pygments_lexer": "ipython3",
   "version": "3.9.7"
  }
 },
 "nbformat": 4,
 "nbformat_minor": 5
}
