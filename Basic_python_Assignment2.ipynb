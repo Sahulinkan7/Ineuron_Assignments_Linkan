{
 "cells": [
  {
   "cell_type": "markdown",
   "id": "6cb35910",
   "metadata": {},
   "source": [
    "# 1.What are the two values of the Boolean data type? How do you write them?\n"
   ]
  },
  {
   "cell_type": "markdown",
   "id": "bfdd9d7f",
   "metadata": {},
   "source": [
    "Answer : Two values of Boolean data Type true and false, generally it denotes as 1 and 0 respectively. In python programming we write as True and False."
   ]
  },
  {
   "cell_type": "markdown",
   "id": "89dec8ef",
   "metadata": {},
   "source": [
    "# 2. What are the three different types of Boolean operators?\n"
   ]
  },
  {
   "cell_type": "markdown",
   "id": "16001ce8",
   "metadata": {},
   "source": [
    "Answer : \n",
    "\n",
    "1) AND\n",
    "\n",
    "2) OR\n",
    "\n",
    "3) NOT"
   ]
  },
  {
   "cell_type": "markdown",
   "id": "2bc06d73",
   "metadata": {},
   "source": [
    "# 3. Make a list of each Boolean operator's truth tables (i.e. every possible combination of Boolean values for the operator and what it evaluate ).\n"
   ]
  },
  {
   "cell_type": "markdown",
   "id": "c99349e2",
   "metadata": {},
   "source": [
    "Answer \n",
    "\n",
    "AND\n",
    "\n",
    "True AND True = True\n",
    "\n",
    "True AND False = False\n",
    "\n",
    "False AND TRUE = False\n",
    "\n",
    "False AND False = False\n",
    "\n",
    "OR \n",
    "\n",
    "True OR True = True\n",
    "\n",
    "True OR False = True\n",
    "\n",
    "False OR True = True\n",
    "\n",
    "False OR False = False\n",
    "\n",
    "NOT \n",
    "\n",
    "not True = False\n",
    "\n",
    "not False = True"
   ]
  },
  {
   "cell_type": "markdown",
   "id": "9013fdcf",
   "metadata": {},
   "source": [
    "# 4. What are the values of the following expressions?\n",
    "(5 > 4) and (3 == 5)\n",
    "not (5 > 4)\n",
    "(5 > 4) or (3 == 5)\n",
    "not ((5 > 4) or (3 == 5))\n",
    "(True and True) and (True == False)\n",
    "(not False) or (not True)\n"
   ]
  },
  {
   "cell_type": "code",
   "execution_count": 1,
   "id": "f625497d",
   "metadata": {},
   "outputs": [
    {
     "name": "stdout",
     "output_type": "stream",
     "text": [
      "\n",
      "   Answer : \n",
      "(5 > 4) and (3 == 5) : False\n",
      "not (5 > 4)          : False\n",
      "(5 > 4) or (3 == 5)  : True\n",
      "not ((5 > 4) or (3 == 5)) : False\n",
      "(True and True) and (True == False) : False\n",
      "(not False) or (not True) : True\n",
      "   \n"
     ]
    }
   ],
   "source": [
    "print(\n",
    "   '''\n",
    "   Answer : \n",
    "(5 > 4) and (3 == 5) : False\n",
    "not (5 > 4)          : False\n",
    "(5 > 4) or (3 == 5)  : True\n",
    "not ((5 > 4) or (3 == 5)) : False\n",
    "(True and True) and (True == False) : False\n",
    "(not False) or (not True) : True\n",
    "   ''' \n",
    "    \n",
    ")"
   ]
  },
  {
   "cell_type": "markdown",
   "id": "fef1f953",
   "metadata": {},
   "source": [
    "# 5. What are the six comparison operators?\n"
   ]
  },
  {
   "cell_type": "markdown",
   "id": "b50abe00",
   "metadata": {},
   "source": [
    "1 ) less than ( < )\n",
    "\n",
    "2 ) less than or equal to ( <= )\n",
    "\n",
    "3 ) greater than ( > )\n",
    "\n",
    "4 ) greater than or equal to ( >= )\n",
    "\n",
    "5 ) equal to ( == )\n",
    "\n",
    "6 ) not equal to ( != )"
   ]
  },
  {
   "cell_type": "markdown",
   "id": "f363c70e",
   "metadata": {},
   "source": [
    "# 6. How do you tell the difference between the equal to and assignment operators?Describe a condition and when you would use one.\n"
   ]
  },
  {
   "cell_type": "markdown",
   "id": "1f8c9c78",
   "metadata": {},
   "source": [
    "Answer : equal to operator ( == ) is known as comparison operator which compares two values from left and right side of it. whereas assignment operator (=) is used to assign a value from right side of it to the variable at left side of the operator.\n",
    "\n",
    "  Example : equal to ( == ) can be used with in the if condition like if ( 4==5 )\n",
    "  \n",
    "         Assignment opertor be like assigning a value to a vriable . \n",
    "         var_a=45, text='how are you'. "
   ]
  },
  {
   "cell_type": "markdown",
   "id": "acd8d329",
   "metadata": {},
   "source": [
    "# 7. Identify the three blocks in this code:\n",
    "spam = 0\n",
    "if spam == 10:\n",
    "print('eggs')\n",
    "if spam > 5:\n",
    "print('bacon')\n",
    "else:\n",
    "print('ham')\n",
    "print('spam')\n",
    "print('spam')\n"
   ]
  },
  {
   "cell_type": "code",
   "execution_count": 2,
   "id": "37dcac78",
   "metadata": {},
   "outputs": [
    {
     "name": "stdout",
     "output_type": "stream",
     "text": [
      "ham\n",
      "spam\n",
      "spam\n"
     ]
    }
   ],
   "source": [
    "\n",
    "#Answer : I have mentioned three blocks of code as comment in between the codes. \n",
    "spam = 0\n",
    "\n",
    "#block 1\n",
    "if spam == 10:\n",
    "    print('eggs')\n",
    "#block 2\n",
    "if spam > 5:\n",
    "    print('bacon')\n",
    "#block 3\n",
    "else:\n",
    "    print('ham')\n",
    "    print('spam')\n",
    "    print('spam')"
   ]
  },
  {
   "cell_type": "markdown",
   "id": "cc052587",
   "metadata": {},
   "source": [
    "# 8. Write code that prints Hello if 1 is stored in spam, prints Howdy if 2 is stored in spam, and prints Greetings! if anything else is stored in spam.\n",
    "\n",
    "\n"
   ]
  },
  {
   "cell_type": "code",
   "execution_count": 3,
   "id": "acd5b7dd",
   "metadata": {},
   "outputs": [
    {
     "name": "stdout",
     "output_type": "stream",
     "text": [
      "Enter an Integer3\n",
      "Greetings!\n"
     ]
    }
   ],
   "source": [
    "#Answer : \n",
    "\n",
    "spam=int(input('Enter an Integer'))\n",
    "if spam==1:\n",
    "    print('Hello')\n",
    "elif spam==2:\n",
    "    print('Howdy')\n",
    "else:\n",
    "    print(\"Greetings!\")"
   ]
  },
  {
   "cell_type": "markdown",
   "id": "ed445425",
   "metadata": {},
   "source": [
    "# 9.If your programme is stuck in an endless loop, what keys you’ll press?\n"
   ]
  },
  {
   "cell_type": "markdown",
   "id": "3178e367",
   "metadata": {},
   "source": [
    "Answer : To stop an endless loop, Ctrl+c can be pressed from keyboard and the loop can be stopped ."
   ]
  },
  {
   "cell_type": "markdown",
   "id": "e19672d2",
   "metadata": {},
   "source": [
    "# 10. How can you tell the difference between break and continue?\n"
   ]
  },
  {
   "cell_type": "markdown",
   "id": "0b3290a2",
   "metadata": {},
   "source": [
    "Answer :\n",
    "    \n",
    "    break : It stops the execution of loop and gets the control out of the loop.\n",
    "    continue : It remains the control inside the loop by skipping a particular iteration of loop at specific condition."
   ]
  },
  {
   "cell_type": "markdown",
   "id": "c4b56eaa",
   "metadata": {},
   "source": [
    "# 11. In a for loop, what is the difference between range(10), range(0, 10), and range(0, 10, 1)?\n"
   ]
  },
  {
   "cell_type": "markdown",
   "id": "6cfe8da9",
   "metadata": {},
   "source": [
    "Answer : There is no difference in the no. of times the loop will run. The for loop will run 10 times in each case of using range(10),range(0,10) and range(0,10,1) as the range() starts from 0 by default and its step size is 1 by default. Hence, in 3 mentioned way of writing the range function will not be different to each other."
   ]
  },
  {
   "cell_type": "markdown",
   "id": "fb6f9039",
   "metadata": {},
   "source": [
    "# 12. Write a short program that prints the numbers 1 to 10 using a for loop. Then write an equivalent program that prints the numbers 1 to 10 using a while loop.\n"
   ]
  },
  {
   "cell_type": "code",
   "execution_count": 4,
   "id": "a34e0488",
   "metadata": {},
   "outputs": [
    {
     "name": "stdout",
     "output_type": "stream",
     "text": [
      "1\n",
      "2\n",
      "3\n",
      "4\n",
      "5\n",
      "6\n",
      "7\n",
      "8\n",
      "9\n",
      "10\n"
     ]
    }
   ],
   "source": [
    "#Answer for loop:\n",
    "\n",
    "for i in range(1,11):\n",
    "    print(i)"
   ]
  },
  {
   "cell_type": "code",
   "execution_count": 5,
   "id": "61c07789",
   "metadata": {},
   "outputs": [
    {
     "name": "stdout",
     "output_type": "stream",
     "text": [
      "1\n",
      "2\n",
      "3\n",
      "4\n",
      "5\n",
      "6\n",
      "7\n",
      "8\n",
      "9\n",
      "10\n"
     ]
    }
   ],
   "source": [
    "#Answer while loop:\n",
    "\n",
    "i=1\n",
    "while i<=10:\n",
    "    print(i)\n",
    "    i+=1"
   ]
  },
  {
   "cell_type": "markdown",
   "id": "0b0d02e3",
   "metadata": {},
   "source": [
    "# 13. If you had a function named bacon() inside a module named spam, how would you call it after importing spam?\n"
   ]
  },
  {
   "cell_type": "markdown",
   "id": "5b02a73d",
   "metadata": {},
   "source": [
    "Answer : In two different way bacon() can be called from the module named spam.\n",
    "\n",
    "    1 ) from spam import bacon\n",
    "    2 ) import spam.bacon "
   ]
  },
  {
   "cell_type": "code",
   "execution_count": null,
   "id": "3cc25072",
   "metadata": {},
   "outputs": [],
   "source": []
  }
 ],
 "metadata": {
  "kernelspec": {
   "display_name": "Python 3 (ipykernel)",
   "language": "python",
   "name": "python3"
  },
  "language_info": {
   "codemirror_mode": {
    "name": "ipython",
    "version": 3
   },
   "file_extension": ".py",
   "mimetype": "text/x-python",
   "name": "python",
   "nbconvert_exporter": "python",
   "pygments_lexer": "ipython3",
   "version": "3.9.7"
  }
 },
 "nbformat": 4,
 "nbformat_minor": 5
}
